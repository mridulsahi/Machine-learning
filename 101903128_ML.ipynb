{
  "nbformat": 4,
  "nbformat_minor": 0,
  "metadata": {
    "colab": {
      "name": "101903128 ML.ipynb",
      "provenance": [],
      "collapsed_sections": [],
      "include_colab_link": true
    },
    "kernelspec": {
      "name": "python3",
      "display_name": "Python 3"
    },
    "language_info": {
      "name": "python"
    }
  },
  "cells": [
    {
      "cell_type": "markdown",
      "metadata": {
        "id": "view-in-github",
        "colab_type": "text"
      },
      "source": [
        "<a href=\"https://colab.research.google.com/github/mridulsahi/machine-learning/blob/main/101903128_ML.ipynb\" target=\"_parent\"><img src=\"https://colab.research.google.com/assets/colab-badge.svg\" alt=\"Open In Colab\"/></a>"
      ]
    },
    {
      "cell_type": "markdown",
      "metadata": {
        "id": "nlt9m7WF0jzq"
      },
      "source": [
        "# **ASSIGNMENT 1 PYTHON BASICS**"
      ]
    },
    {
      "cell_type": "markdown",
      "metadata": {
        "id": "qlKa4D8WzyX7"
      },
      "source": [
        "# Q1. Split this string s = \"Hi there Class!\" into a list."
      ]
    },
    {
      "cell_type": "code",
      "metadata": {
        "colab": {
          "base_uri": "https://localhost:8080/"
        },
        "id": "X4CZV4Jrz4XD",
        "outputId": "c889fe1e-c8a6-40d8-b138-fd26d88c32b5"
      },
      "source": [
        "s=\"Hi there Class!\"\n",
        "x=s.split()\n",
        "y=list(s.replace(\" \",\"\"))\n",
        "\n",
        "print(x)\n",
        "print(y)"
      ],
      "execution_count": null,
      "outputs": [
        {
          "output_type": "stream",
          "text": [
            "['Hi', 'there', 'Class!']\n",
            "['H', 'i', 't', 'h', 'e', 'r', 'e', 'C', 'l', 'a', 's', 's', '!']\n"
          ],
          "name": "stdout"
        }
      ]
    },
    {
      "cell_type": "markdown",
      "metadata": {
        "id": "aNGX2Pbb0cjc"
      },
      "source": [
        "# Q2. Given the variables\n",
        " planet = \"Earth\"\n",
        " diameter = 12742\n",
        " Use .format() to print the following string:\n",
        " The diameter of Earth is 12742 kilometers."
      ]
    },
    {
      "cell_type": "code",
      "metadata": {
        "colab": {
          "base_uri": "https://localhost:8080/"
        },
        "id": "1zprGi232LH0",
        "outputId": "911aaf40-b70f-4976-ec55-d5da364693a5"
      },
      "source": [
        " planet = \"Earth\" \n",
        " diameter = 12742\n",
        " print(\"The diameter of {} is {} kilometers.\".format(planet,diameter))"
      ],
      "execution_count": null,
      "outputs": [
        {
          "output_type": "stream",
          "text": [
            "The diameter of Earth is 12742 kilometers.\n"
          ],
          "name": "stdout"
        }
      ]
    },
    {
      "cell_type": "markdown",
      "metadata": {
        "id": "RDewgKFk3Qtk"
      },
      "source": [
        "# Q3. Given this nested list, use indexing to grab the word \"hello\"\n",
        "# lst = [1,2,[3,4],[5,[100,200,['hello']],23,11],1,7]"
      ]
    },
    {
      "cell_type": "code",
      "metadata": {
        "colab": {
          "base_uri": "https://localhost:8080/"
        },
        "id": "Z1RmiNZ53bGe",
        "outputId": "f552105c-691d-4529-9924-fa139e664def"
      },
      "source": [
        "lst = [1,2,[3,4],[5,[100,200,['hello']],23,11],1,7]\n",
        "print(lst[3][1][2][0])\n"
      ],
      "execution_count": null,
      "outputs": [
        {
          "output_type": "stream",
          "text": [
            "hello\n"
          ],
          "name": "stdout"
        }
      ]
    },
    {
      "cell_type": "markdown",
      "metadata": {
        "id": "yKswE4Id5dSF"
      },
      "source": [
        "# Q4. Given this nested dictionary grab the word \"hello\".\n",
        "d = {'k1':[1,2,3,{'tricky':['oh','man','inception',{'target':[1,2,3,'hello']}]}]}"
      ]
    },
    {
      "cell_type": "code",
      "metadata": {
        "colab": {
          "base_uri": "https://localhost:8080/"
        },
        "id": "FJXKvm2t5iM8",
        "outputId": "544a073e-585d-4583-e65e-3e95771df491"
      },
      "source": [
        "d = {'k1':[1,2,3,{'tricky':['oh','man','inception',{'target':[1,2,3,'hello']}]}]}\n",
        "print(d['k1'][3]['tricky'][3]['target'][3])"
      ],
      "execution_count": null,
      "outputs": [
        {
          "output_type": "stream",
          "text": [
            "hello\n"
          ],
          "name": "stdout"
        }
      ]
    },
    {
      "cell_type": "markdown",
      "metadata": {
        "id": "YyE42U5Q6NQz"
      },
      "source": [
        "# Q5. Create a function that grabs the email website domain from a string in the form:\n",
        "user@domain.com"
      ]
    },
    {
      "cell_type": "code",
      "metadata": {
        "colab": {
          "base_uri": "https://localhost:8080/"
        },
        "id": "vva3kcS86QUc",
        "outputId": "c1bb49d4-91cc-449a-fb2b-b608f8e1c348"
      },
      "source": [
        "def domain(email):\n",
        "     email=email.split(\"@\")\n",
        "     print(email[1])\n",
        "domain(\"mridul@gmail.com\")\n"
      ],
      "execution_count": null,
      "outputs": [
        {
          "output_type": "stream",
          "text": [
            "gmail.com\n"
          ],
          "name": "stdout"
        }
      ]
    },
    {
      "cell_type": "markdown",
      "metadata": {
        "id": "bD32iFCp7xcu"
      },
      "source": [
        "# Q6. Create a basic function that returns True if the word 'dog' is contained in the input string."
      ]
    },
    {
      "cell_type": "code",
      "metadata": {
        "colab": {
          "base_uri": "https://localhost:8080/"
        },
        "id": "T7mziRl19V9O",
        "outputId": "5cdf318d-750c-438c-e15a-0faa7466b97b"
      },
      "source": [
        "def xyz(str):\n",
        "  if (str.find(\"dog\")):\n",
        "      return True\n",
        "print(xyz(\"This is a dog\"))"
      ],
      "execution_count": null,
      "outputs": [
        {
          "output_type": "stream",
          "name": "stdout",
          "text": [
            "True\n"
          ]
        }
      ]
    },
    {
      "cell_type": "markdown",
      "metadata": {
        "id": "cT-mAxWL_Taf"
      },
      "source": [
        "# Q7. Create a function that counts the number of times the word \"dog\" occurs in a string.\n"
      ]
    },
    {
      "cell_type": "code",
      "metadata": {
        "colab": {
          "base_uri": "https://localhost:8080/"
        },
        "id": "o_pjrrBI_w42",
        "outputId": "c2981530-ebdc-48ab-cd4a-5b8f92290702"
      },
      "source": [
        "def count(str):\n",
        "  print(str.count(\"dog\"))\n",
        "count(\"dog,dog\")"
      ],
      "execution_count": null,
      "outputs": [
        {
          "output_type": "stream",
          "text": [
            "2\n"
          ],
          "name": "stdout"
        }
      ]
    },
    {
      "cell_type": "markdown",
      "metadata": {
        "id": "S-82L_tBAVzG"
      },
      "source": [
        "# Q8. Use lambda expressions and the filter() function to filter out words from a list that don't start with the\n",
        "letter 's'.\n",
        "For example: seq = ['soup','dog','salad','cat','great']\n"
      ]
    },
    {
      "cell_type": "code",
      "metadata": {
        "colab": {
          "base_uri": "https://localhost:8080/"
        },
        "id": "6ZOMEAOJAYrF",
        "outputId": "006a6612-8319-42c8-b3a2-5e5b5bda2898"
      },
      "source": [
        "seq = ['soup','dog','salad','cat','great']\n",
        "lst=list(filter(lambda x: x[0]!='s',seq))\n",
        "print(lst)"
      ],
      "execution_count": null,
      "outputs": [
        {
          "output_type": "stream",
          "text": [
            "['dog', 'cat', 'great']\n"
          ],
          "name": "stdout"
        }
      ]
    },
    {
      "cell_type": "markdown",
      "metadata": {
        "id": "d5RPDQfyDEYP"
      },
      "source": [
        "# Q9. You are driving a little too fast, and a police officer stops you. Write a function to return one of 3 pos\n",
        "#sible results: \"No Challan\", \"Small Challan\", or \"Heavy Challan\". If your speed is 60 or less, the result is\n",
        "#\"No Challan\". If speed is between 61 and 80 inclusive, the result is \"Small Challan\". If speed is 81 or mor\n",
        "#e, the result is \"Heavy Challan\". Unless it is your birthday (encoded as a Boolean value in the parameters\n",
        "#of the function) -- on your birthday, your speed can be 5 higher in all cases.\n",
        "#caught_speeding(81,True)\n",
        "#caught_speeding(81,False)"
      ]
    },
    {
      "cell_type": "code",
      "metadata": {
        "id": "H7JlrRgbDFnG",
        "colab": {
          "base_uri": "https://localhost:8080/"
        },
        "outputId": "6346c444-d4ea-436a-9c0d-5b882fbc58f7"
      },
      "source": [
        "speed=int(input(\"Enter your speed: \"))\n",
        "#print(\"Is it your birthday?\")\n",
        "s=input(\"Is it your birthday?\")\n",
        "#print(\"Enter your birth date\")\n",
        "#bday=str(input(\" \"))\n",
        "police(speed, s)\n",
        "def police(speed,s):\n",
        "  sp=0\n",
        "  if s == \"True\":\n",
        "    sp=speed-5\n",
        "  else:\n",
        "    sp=speed\n",
        "  if (sp <= 60):\n",
        "     print(\"No Challan\")\n",
        "  elif (sp>61 and sp<80 ):\n",
        "    print(\"Small Challan\")\n",
        "  else:\n",
        "    print(\"Heavy Challan\")\n",
        "  \n",
        "\n",
        "\n",
        "\n",
        "\n",
        "   \n",
        "\n",
        "\n"
      ],
      "execution_count": null,
      "outputs": [
        {
          "output_type": "stream",
          "text": [
            "Enter your speed: 65\n",
            "Is it your birthday?True\n",
            "No Challan\n"
          ],
          "name": "stdout"
        }
      ]
    },
    {
      "cell_type": "markdown",
      "metadata": {
        "id": "4VbkSYcCexa2"
      },
      "source": [
        "# Q10. Concatenate two lists index-wise\n",
        "list1 = [\"M\", \"na\", \"i\", \"She\"]\n",
        "list2 = [\"y\", \"me\", \"s\", \"lly\"]\n",
        "Expected Outcome: ['My', 'name', 'is', 'Shelly']"
      ]
    },
    {
      "cell_type": "code",
      "metadata": {
        "colab": {
          "base_uri": "https://localhost:8080/"
        },
        "id": "kcoRW7QZgB0p",
        "outputId": "bcbd4756-ff49-4738-e014-0747ef1ceb2f"
      },
      "source": [
        "\n",
        "list1 = [\"M\", \"na\", \"i\", \"She\"] \n",
        "list2 = [\"y\", \"me\", \"s\", \"lly\"]\n",
        " #list comprehension\n",
        "[print(i+j,end=' ') for i,j in zip(list1,list2)]\n",
        "\n",
        "\n",
        "   \n"
      ],
      "execution_count": null,
      "outputs": [
        {
          "output_type": "stream",
          "text": [
            "My name is Shelly "
          ],
          "name": "stdout"
        },
        {
          "output_type": "execute_result",
          "data": {
            "text/plain": [
              "[None, None, None, None]"
            ]
          },
          "metadata": {
            "tags": []
          },
          "execution_count": 33
        }
      ]
    },
    {
      "cell_type": "markdown",
      "metadata": {
        "id": "lu2Wd__0omYe"
      },
      "source": [
        "# Q11. Concatenate two lists in the following order\n",
        "list1 = [\"Hello \", \"take \"]\n",
        "list2 = [\"Dear\", \"Sir\"]\n",
        "Expected Output: ['Hello Dear', 'Hello Sir', 'take Dear', 'take Sir']"
      ]
    },
    {
      "cell_type": "code",
      "metadata": {
        "colab": {
          "base_uri": "https://localhost:8080/"
        },
        "id": "nr7If1u8lYw0",
        "outputId": "786a420c-0f29-48dd-8b1e-c96d9f61a3ed"
      },
      "source": [
        "list1=[\"Hello\", \"Take\"]\n",
        "list2=[\"Dear\", \"Sir\"]\n",
        "answer=[]\n",
        "for i in range(0, len(list1)):\n",
        "    for j in range(0, len(list2)):\n",
        "        answer.append(list1[i]+\" \"+list2[j])\n",
        "print(answer)"
      ],
      "execution_count": null,
      "outputs": [
        {
          "output_type": "stream",
          "text": [
            "['Hello Dear', 'Hello Sir', 'Take Dear', 'Take Sir']\n"
          ],
          "name": "stdout"
        }
      ]
    },
    {
      "cell_type": "markdown",
      "metadata": {
        "id": "kE6xvMYaNynJ"
      },
      "source": [
        "# Q12. Add item 7000 after 6000 in the following Python List\n",
        "list1 = [10, 20, [300, 400, [5000, 6000], 500], 30, 40]"
      ]
    },
    {
      "cell_type": "code",
      "metadata": {
        "colab": {
          "base_uri": "https://localhost:8080/"
        },
        "id": "yQmBS01WOD6M",
        "outputId": "5bb90da2-1392-4174-e15b-b42760d9ab5e"
      },
      "source": [
        "list1 = [10, 20, [300, 400, [5000, 6000], 500], 30, 40]\n",
        "list1[2][2].append(7000)\n",
        "print(list1)"
      ],
      "execution_count": null,
      "outputs": [
        {
          "output_type": "stream",
          "text": [
            "[10, 20, [300, 400, [5000, 6000, 7000], 500], 30, 40]\n"
          ],
          "name": "stdout"
        }
      ]
    },
    {
      "cell_type": "markdown",
      "metadata": {
        "id": "R42ab6yMUERZ"
      },
      "source": [
        "# Q13. Given a Python list, remove all occurrence of 20 from the list\n",
        "list1 = [5, 20, 15, 20, 25, 50, 20]"
      ]
    },
    {
      "cell_type": "code",
      "metadata": {
        "colab": {
          "base_uri": "https://localhost:8080/"
        },
        "id": "DL9mUbHEUIG0",
        "outputId": "a4a94fc5-52e7-4c05-9669-ffc9280a4a5f"
      },
      "source": [
        "list1 = [5, 20, 15, 20, 25, 50, 20]\n",
        "lst = []\n",
        "for i in list1:\n",
        "    if i not in lst:\n",
        "        lst.append(i)\n",
        "print (str(lst))"
      ],
      "execution_count": null,
      "outputs": [
        {
          "output_type": "stream",
          "text": [
            "[5, 20, 15, 20, 25, 50, 20]\n",
            "[5, 20, 15, 25, 50]\n"
          ],
          "name": "stdout"
        }
      ]
    },
    {
      "cell_type": "markdown",
      "metadata": {
        "id": "3aWwzzJqaVHc"
      },
      "source": [
        "# Q14. Check if a value 200 exists in a dictionary\n",
        "d1 = {'a': 100, 'b': 200, 'c': 300}"
      ]
    },
    {
      "cell_type": "code",
      "metadata": {
        "colab": {
          "base_uri": "https://localhost:8080/"
        },
        "id": "hZDBxwX2K2PA",
        "outputId": "a986fa6b-938e-45af-fc4f-b8f017c746da"
      },
      "source": [
        "value = 200\n",
        "d1 = {'a': 100, 'b': 200, 'c': 300}\n",
        "if value in d1.values():\n",
        "  print(\"present\")\n",
        "else:\n",
        " print(\"not present\")\n",
        "\n"
      ],
      "execution_count": null,
      "outputs": [
        {
          "output_type": "stream",
          "text": [
            "present\n"
          ],
          "name": "stdout"
        }
      ]
    },
    {
      "cell_type": "code",
      "metadata": {
        "colab": {
          "base_uri": "https://localhost:8080/"
        },
        "id": "Loyeg0CuaYPM",
        "outputId": "f942920a-56ca-4dab-c416-d305a2f1acf4"
      },
      "source": [
        "def check(dict, key):\n",
        "      \n",
        "    if key in dict.keys():\n",
        "        print(\"Present, \", end =\" \")\n",
        "        print(\"value =\", dict[key])\n",
        "    else:\n",
        "        print(\"Not present\")\n",
        "d1 = {'a': 100, 'b': 200, 'c': 300}\n",
        "  \n",
        "key = 'b'\n",
        "check(dict, key)"
      ],
      "execution_count": null,
      "outputs": [
        {
          "output_type": "stream",
          "text": [
            "Present,  value = 200\n"
          ],
          "name": "stdout"
        }
      ]
    },
    {
      "cell_type": "markdown",
      "metadata": {
        "id": "ZNnfy4BXb7tO"
      },
      "source": [
        "# Q15. Find the sum of the series 2 +22 + 222 + 2222 + .. n terms"
      ]
    },
    {
      "cell_type": "code",
      "metadata": {
        "colab": {
          "base_uri": "https://localhost:8080/"
        },
        "id": "zdeBEw82dBAV",
        "outputId": "871a9153-248d-4dcc-cdaa-b3eb11f30ae4"
      },
      "source": [
        "import math\n",
        "def sum(n):\n",
        "  return 0.2469*(math.pow(10,n)-1-(9*n))\n",
        "n=int(input())\n",
        "print(sum(n))"
      ],
      "execution_count": null,
      "outputs": [
        {
          "output_type": "stream",
          "text": [
            "5\n",
            "24678.6426\n"
          ],
          "name": "stdout"
        }
      ]
    },
    {
      "cell_type": "markdown",
      "metadata": {
        "id": "gEmeILQ2GrBF"
      },
      "source": [
        "# **ASSIGNMENT 2 NUMPY BASICS**"
      ]
    },
    {
      "cell_type": "markdown",
      "metadata": {
        "id": "J69M_Iko0CS6"
      },
      "source": [
        "# 1. Create an array of 10 fives"
      ]
    },
    {
      "cell_type": "code",
      "metadata": {
        "colab": {
          "base_uri": "https://localhost:8080/"
        },
        "id": "7b8mK9uW0aLr",
        "outputId": "9330ba2f-5623-4be4-ae20-7dbc123e7b7e"
      },
      "source": [
        "import numpy as np\n",
        "np.full(10,5)\n"
      ],
      "execution_count": null,
      "outputs": [
        {
          "output_type": "execute_result",
          "data": {
            "text/plain": [
              "array([5, 5, 5, 5, 5, 5, 5, 5, 5, 5])"
            ]
          },
          "metadata": {
            "tags": []
          },
          "execution_count": 1
        }
      ]
    },
    {
      "cell_type": "markdown",
      "metadata": {
        "id": "KIZrj3-G2gXu"
      },
      "source": [
        "# 2. Create an array of the integers from 10 to 50"
      ]
    },
    {
      "cell_type": "code",
      "metadata": {
        "colab": {
          "base_uri": "https://localhost:8080/"
        },
        "id": "CVrkW9Ih4QYN",
        "outputId": "74bcb7fa-eb3b-403c-df23-5dd2ad8bdb1d"
      },
      "source": [
        "import numpy as np  \n",
        "arr = np.arange(10,51)  \n",
        "print(arr)  "
      ],
      "execution_count": null,
      "outputs": [
        {
          "output_type": "stream",
          "text": [
            "[10 11 12 13 14 15 16 17 18 19 20 21 22 23 24 25 26 27 28 29 30 31 32 33\n",
            " 34 35 36 37 38 39 40 41 42 43 44 45 46 47 48 49 50]\n"
          ],
          "name": "stdout"
        }
      ]
    },
    {
      "cell_type": "markdown",
      "metadata": {
        "id": "ZjEHMs4-4XvA"
      },
      "source": [
        "# 3. Create an array of all the even integers from 10 to 50\n"
      ]
    },
    {
      "cell_type": "code",
      "metadata": {
        "colab": {
          "base_uri": "https://localhost:8080/"
        },
        "id": "MJczThqy4bM6",
        "outputId": "63d408c6-46e9-4f6c-c1f7-0301ecc8b8f6"
      },
      "source": [
        "import numpy as np  \n",
        "arr = np.arange(10,51,2,int)  \n",
        "print(arr)  "
      ],
      "execution_count": null,
      "outputs": [
        {
          "output_type": "stream",
          "text": [
            "[10 12 14 16 18 20 22 24 26 28 30 32 34 36 38 40 42 44 46 48 50]\n"
          ],
          "name": "stdout"
        }
      ]
    },
    {
      "cell_type": "markdown",
      "metadata": {
        "id": "PXI2BWuK4fcD"
      },
      "source": [
        "# 4. Create a 3x3 matrix with values ranging from 0 to 8"
      ]
    },
    {
      "cell_type": "code",
      "metadata": {
        "colab": {
          "base_uri": "https://localhost:8080/"
        },
        "id": "YEXHCDLMPLlP",
        "outputId": "77abac91-bfc5-453b-dd13-f4d9327111ee"
      },
      "source": [
        "import numpy as np\n",
        "mat = np.array([0, 1, 2, 3, 4, 5, 6, 7, 8])\n",
        "newmatrix = mat.reshape(3,3)\n",
        "print(newmatrix)"
      ],
      "execution_count": null,
      "outputs": [
        {
          "output_type": "stream",
          "text": [
            "[[0 1 2]\n",
            " [3 4 5]\n",
            " [6 7 8]]\n"
          ],
          "name": "stdout"
        }
      ]
    },
    {
      "cell_type": "code",
      "metadata": {
        "colab": {
          "base_uri": "https://localhost:8080/"
        },
        "id": "ma6vVAvK4gHU",
        "outputId": "a4fe7f4b-fc1a-4df6-a6a0-6fc49f7edd8f"
      },
      "source": [
        "import numpy as np  \n",
        "mat=np.matrix('0 1 2;3 4 5;6 7 8')\n",
        "print(mat)"
      ],
      "execution_count": null,
      "outputs": [
        {
          "output_type": "stream",
          "text": [
            "[[0 1 2]\n",
            " [3 4 5]\n",
            " [6 7 8]]\n"
          ],
          "name": "stdout"
        }
      ]
    },
    {
      "cell_type": "markdown",
      "metadata": {
        "id": "gH4AYq0q48vN"
      },
      "source": [
        "# 5. Use NumPy to generate an array of 25 random numbers sampled from a standard normal\n",
        "distribution"
      ]
    },
    {
      "cell_type": "code",
      "metadata": {
        "colab": {
          "base_uri": "https://localhost:8080/"
        },
        "id": "NnC2bMGp4_YJ",
        "outputId": "aeae2fce-4746-4484-8b3c-889fa2e7b3cb"
      },
      "source": [
        "import numpy as np \n",
        "num=np.random.normal(size=25)\n",
        "print(num)"
      ],
      "execution_count": null,
      "outputs": [
        {
          "output_type": "stream",
          "text": [
            "[-0.15126181 -0.24794188  1.6209695   0.51734226  0.43262139 -1.30939985\n",
            "  0.24038354  0.24189928  0.01402572  0.71765871 -1.03985902  0.81356832\n",
            " -0.37195128  1.17168356  0.12361008  1.79885725 -1.04395181 -0.11315677\n",
            "  0.61700713  0.92593724 -0.46525703  0.48460732  0.78696158 -0.13508368\n",
            "  0.38709759]\n"
          ],
          "name": "stdout"
        }
      ]
    },
    {
      "cell_type": "markdown",
      "metadata": {
        "id": "hkpgY0gc6Gmo"
      },
      "source": [
        "# Create the following array:\n",
        "array([0. , 0.01, 0.02, 0.03, 0.04, 0.05, 0.06, 0.07, 0.08, 0.09, 0.1 ,\n",
        " 0.11, 0.12, 0.13, 0.14, 0.15, 0.16, 0.17, 0.18, 0.19, 0.2 , 0.21,\n",
        " 0.22, 0.23, 0.24, 0.25, 0.26, 0.27, 0.28, 0.29, 0.3 , 0.31, 0.32,\n",
        " 0.33, 0.34, 0.35, 0.36, 0.37, 0.38, 0.39, 0.4 , 0.41, 0.42, 0.43,\n",
        " 0.44, 0.45, 0.46, 0.47, 0.48, 0.49, 0.5 , 0.51, 0.52, 0.53, 0.54,\n",
        " 0.55, 0.56, 0.57, 0.58, 0.59, 0.6 , 0.61, 0.62, 0.63, 0.64, 0.65,\n",
        " 0.66, 0.67, 0.68, 0.69, 0.7 , 0.71, 0.72, 0.73, 0.74, 0.75, 0.76,\n",
        " 0.77, 0.78, 0.79, 0.8 , 0.81, 0.82, 0.83, 0.84, 0.85, 0.86, 0.87,\n",
        " 0.88, 0.89, 0.9 , 0.91, 0.92, 0.93, 0.94, 0.95, 0.96, 0.97, 0.98,\n",
        " 0.99, 1. ])"
      ]
    },
    {
      "cell_type": "code",
      "metadata": {
        "colab": {
          "base_uri": "https://localhost:8080/"
        },
        "id": "Khr4IZuP6WrX",
        "outputId": "43f67996-286b-4acc-a9d5-7164b1b000f9"
      },
      "source": [
        "import numpy as np \n",
        "arr = np.arange(0,1.01,0.01)\n",
        "print(arr)"
      ],
      "execution_count": null,
      "outputs": [
        {
          "output_type": "stream",
          "text": [
            "[0.   0.01 0.02 0.03 0.04 0.05 0.06 0.07 0.08 0.09 0.1  0.11 0.12 0.13\n",
            " 0.14 0.15 0.16 0.17 0.18 0.19 0.2  0.21 0.22 0.23 0.24 0.25 0.26 0.27\n",
            " 0.28 0.29 0.3  0.31 0.32 0.33 0.34 0.35 0.36 0.37 0.38 0.39 0.4  0.41\n",
            " 0.42 0.43 0.44 0.45 0.46 0.47 0.48 0.49 0.5  0.51 0.52 0.53 0.54 0.55\n",
            " 0.56 0.57 0.58 0.59 0.6  0.61 0.62 0.63 0.64 0.65 0.66 0.67 0.68 0.69\n",
            " 0.7  0.71 0.72 0.73 0.74 0.75 0.76 0.77 0.78 0.79 0.8  0.81 0.82 0.83\n",
            " 0.84 0.85 0.86 0.87 0.88 0.89 0.9  0.91 0.92 0.93 0.94 0.95 0.96 0.97\n",
            " 0.98 0.99 1.  ]\n"
          ],
          "name": "stdout"
        }
      ]
    },
    {
      "cell_type": "markdown",
      "metadata": {
        "id": "ZcZylhg07TtO"
      },
      "source": [
        "7. Create an array of 20 linearly spaced points between 0 and 1"
      ]
    },
    {
      "cell_type": "code",
      "metadata": {
        "colab": {
          "base_uri": "https://localhost:8080/"
        },
        "id": "jD_T5sbP7Vrr",
        "outputId": "c0f6b657-2f8c-425c-b4df-5a4e8f565945"
      },
      "source": [
        "import numpy as np \n",
        "arrr=np.linspace(0,1,20)\n",
        "print(arrr)"
      ],
      "execution_count": null,
      "outputs": [
        {
          "output_type": "stream",
          "text": [
            "[0.         0.05263158 0.10526316 0.15789474 0.21052632 0.26315789\n",
            " 0.31578947 0.36842105 0.42105263 0.47368421 0.52631579 0.57894737\n",
            " 0.63157895 0.68421053 0.73684211 0.78947368 0.84210526 0.89473684\n",
            " 0.94736842 1.        ]\n"
          ],
          "name": "stdout"
        }
      ]
    },
    {
      "cell_type": "markdown",
      "metadata": {
        "id": "Uv-j5mTv73Bs"
      },
      "source": [
        "# 8. Generate the following matrix, mat,\n",
        "and extract the following using the indexing and slicing:\n",
        "array([[ 1, 2, 3, 4, 5], [ 6, 7, 8, 9, 10],\n",
        "[11, 12, 13, 14, 15], [16, 17, 18, 19, 20], [21, 22, 23, 24, 25]])\n",
        "array([[12, 13, 14, 15], [17, 18, 19, 20],\n",
        "[22, 23, 24, 25]]) array([[ 2],\n",
        "[ 7], [12]])\n",
        "Get the sum of all the values in mat\n",
        "Get the sum of all the rows and columns in mat"
      ]
    },
    {
      "cell_type": "code",
      "metadata": {
        "colab": {
          "base_uri": "https://localhost:8080/"
        },
        "id": "QCD9zYRn75JH",
        "outputId": "fa0771f4-9a99-48ed-d040-b9cb755bf921"
      },
      "source": [
        "import numpy as np \n",
        "aarr=np.arange(1,26).reshape(5,5)\n",
        "print(aarr)\n",
        "#extracting the matrix\n",
        "print(aarr[2:5,1:])\n",
        "print((aarr[0:3,1].reshape(3,1)))\n",
        "print('Sum of all the values is ')\n",
        "print(aarr.sum())\n",
        "print('Sum of all the rows is ')\n",
        "row=aarr.sum(axis=1)\n",
        "print(row)\n",
        "print('Sum of all the col is ')\n",
        "col=aarr.sum(axis=0)\n",
        "print(col)\n",
        "\n",
        "\n",
        "\n"
      ],
      "execution_count": null,
      "outputs": [
        {
          "output_type": "stream",
          "text": [
            "[[ 1  2  3  4  5]\n",
            " [ 6  7  8  9 10]\n",
            " [11 12 13 14 15]\n",
            " [16 17 18 19 20]\n",
            " [21 22 23 24 25]]\n",
            "[[12 13 14 15]\n",
            " [17 18 19 20]\n",
            " [22 23 24 25]]\n",
            "[[ 2]\n",
            " [ 7]\n",
            " [12]]\n",
            "Sum of all the values is \n",
            "325\n",
            "Sum of all the rows is \n",
            "[ 15  40  65  90 115]\n",
            "Sum of all the col is \n",
            "[55 60 65 70 75]\n"
          ],
          "name": "stdout"
        }
      ]
    },
    {
      "cell_type": "markdown",
      "metadata": {
        "id": "_oN9-P86GzLM"
      },
      "source": [
        "# **ASSIGNMENT 3 PRE PROCESSING**"
      ]
    },
    {
      "cell_type": "markdown",
      "metadata": {
        "id": "d1AYfdD1jojc"
      },
      "source": [
        "Download the dataset (in csv format) from the following link:\n",
        "https://www.kaggle.com/jahias/microsoft-adventure-works-cycles-customer-data\n",
        "The Marketing department of Adventure Works Cycles wants to increase sales by targeting specific customers for a mailing campaign. The company's database contains a list of past customers and a list of potential new customers. By investigating the attributes of previous bike buyers, the company hopes to discover patterns that they can then apply to potential customers. They hope to use the discovered patterns to predict which potential customers are most likely to purchase a bike from Adventure Works Cycles.\n"
      ]
    },
    {
      "cell_type": "markdown",
      "metadata": {
        "id": "Zvldo78IrtIl"
      },
      "source": [
        "**Part I: Based on Feature Selection, Cleaning, and Preprocessing to Construct an Input from Data **"
      ]
    },
    {
      "cell_type": "markdown",
      "metadata": {
        "id": "M2ry8MBLru6A"
      },
      "source": [
        "\n",
        "# (a) Examine the values of each attribute and Select a set of attributes only that would affect to predict future bike buyers to create your input for data mining algorithms. Remove all the unnecessary attributes. (Select features just by analysis)."
      ]
    },
    {
      "cell_type": "code",
      "metadata": {
        "id": "hi6n9_0X4k1C",
        "colab": {
          "base_uri": "https://localhost:8080/"
        },
        "outputId": "46080b06-0c16-4e21-ff35-2216353009be"
      },
      "source": [
        "from google.colab import drive\n",
        "drive.mount('/content/gdrive')"
      ],
      "execution_count": null,
      "outputs": [
        {
          "output_type": "stream",
          "name": "stdout",
          "text": [
            "Drive already mounted at /content/gdrive; to attempt to forcibly remount, call drive.mount(\"/content/gdrive\", force_remount=True).\n"
          ]
        }
      ]
    },
    {
      "cell_type": "code",
      "metadata": {
        "colab": {
          "base_uri": "https://localhost:8080/",
          "height": 309
        },
        "id": "Vb53z66k6PCI",
        "outputId": "224cceb6-8194-4cde-c2d4-8ca022215fa8"
      },
      "source": [
        "import pandas as pd\n",
        "import numpy as np\n",
        "cust=pd.read_csv('/content/gdrive/MyDrive/STUDY  MATERIAL(MEENAL AND MRIDUL)/3rd Year/5th SEMESTER/MACHINE LEARNING/Solution/archive/AWCustomers.csv')\n",
        "sales=pd.read_csv('/content/gdrive/MyDrive/STUDY  MATERIAL(MEENAL AND MRIDUL)/3rd Year/5th SEMESTER/MACHINE LEARNING/Solution/archive/AWSales.csv')\n",
        "df=cust.merge(sales)\n",
        "df.head()"
      ],
      "execution_count": null,
      "outputs": [
        {
          "output_type": "execute_result",
          "data": {
            "text/html": [
              "<div>\n",
              "<style scoped>\n",
              "    .dataframe tbody tr th:only-of-type {\n",
              "        vertical-align: middle;\n",
              "    }\n",
              "\n",
              "    .dataframe tbody tr th {\n",
              "        vertical-align: top;\n",
              "    }\n",
              "\n",
              "    .dataframe thead th {\n",
              "        text-align: right;\n",
              "    }\n",
              "</style>\n",
              "<table border=\"1\" class=\"dataframe\">\n",
              "  <thead>\n",
              "    <tr style=\"text-align: right;\">\n",
              "      <th></th>\n",
              "      <th>CustomerID</th>\n",
              "      <th>Title</th>\n",
              "      <th>FirstName</th>\n",
              "      <th>MiddleName</th>\n",
              "      <th>LastName</th>\n",
              "      <th>Suffix</th>\n",
              "      <th>AddressLine1</th>\n",
              "      <th>AddressLine2</th>\n",
              "      <th>City</th>\n",
              "      <th>StateProvinceName</th>\n",
              "      <th>CountryRegionName</th>\n",
              "      <th>PostalCode</th>\n",
              "      <th>PhoneNumber</th>\n",
              "      <th>BirthDate</th>\n",
              "      <th>Education</th>\n",
              "      <th>Occupation</th>\n",
              "      <th>Gender</th>\n",
              "      <th>MaritalStatus</th>\n",
              "      <th>HomeOwnerFlag</th>\n",
              "      <th>NumberCarsOwned</th>\n",
              "      <th>NumberChildrenAtHome</th>\n",
              "      <th>TotalChildren</th>\n",
              "      <th>YearlyIncome</th>\n",
              "      <th>LastUpdated</th>\n",
              "      <th>BikeBuyer</th>\n",
              "      <th>AvgMonthSpend</th>\n",
              "    </tr>\n",
              "  </thead>\n",
              "  <tbody>\n",
              "    <tr>\n",
              "      <th>0</th>\n",
              "      <td>21173</td>\n",
              "      <td>NaN</td>\n",
              "      <td>Chad</td>\n",
              "      <td>C</td>\n",
              "      <td>Yuan</td>\n",
              "      <td>NaN</td>\n",
              "      <td>7090 C. Mount Hood</td>\n",
              "      <td>NaN</td>\n",
              "      <td>Wollongong</td>\n",
              "      <td>New South Wales</td>\n",
              "      <td>Australia</td>\n",
              "      <td>2500</td>\n",
              "      <td>1 (11) 500 555-0115</td>\n",
              "      <td>1987-11-13</td>\n",
              "      <td>Bachelors</td>\n",
              "      <td>Clerical</td>\n",
              "      <td>M</td>\n",
              "      <td>M</td>\n",
              "      <td>1</td>\n",
              "      <td>3</td>\n",
              "      <td>0</td>\n",
              "      <td>1</td>\n",
              "      <td>81916</td>\n",
              "      <td>2017-03-06</td>\n",
              "      <td>1</td>\n",
              "      <td>50.97</td>\n",
              "    </tr>\n",
              "    <tr>\n",
              "      <th>1</th>\n",
              "      <td>13249</td>\n",
              "      <td>NaN</td>\n",
              "      <td>Ryan</td>\n",
              "      <td>NaN</td>\n",
              "      <td>Perry</td>\n",
              "      <td>NaN</td>\n",
              "      <td>3651 Willow Lake Rd</td>\n",
              "      <td>NaN</td>\n",
              "      <td>Shawnee</td>\n",
              "      <td>British Columbia</td>\n",
              "      <td>Canada</td>\n",
              "      <td>V9B 2C3</td>\n",
              "      <td>787-555-0136</td>\n",
              "      <td>1972-07-21</td>\n",
              "      <td>Partial College</td>\n",
              "      <td>Clerical</td>\n",
              "      <td>M</td>\n",
              "      <td>M</td>\n",
              "      <td>1</td>\n",
              "      <td>2</td>\n",
              "      <td>1</td>\n",
              "      <td>2</td>\n",
              "      <td>81076</td>\n",
              "      <td>2017-03-06</td>\n",
              "      <td>1</td>\n",
              "      <td>53.11</td>\n",
              "    </tr>\n",
              "    <tr>\n",
              "      <th>2</th>\n",
              "      <td>29350</td>\n",
              "      <td>NaN</td>\n",
              "      <td>Julia</td>\n",
              "      <td>NaN</td>\n",
              "      <td>Thompson</td>\n",
              "      <td>NaN</td>\n",
              "      <td>1774 Tice Valley Blvd.</td>\n",
              "      <td>NaN</td>\n",
              "      <td>West Covina</td>\n",
              "      <td>California</td>\n",
              "      <td>United States</td>\n",
              "      <td>91791</td>\n",
              "      <td>120-555-0111</td>\n",
              "      <td>1985-11-09</td>\n",
              "      <td>Bachelors</td>\n",
              "      <td>Clerical</td>\n",
              "      <td>F</td>\n",
              "      <td>S</td>\n",
              "      <td>0</td>\n",
              "      <td>3</td>\n",
              "      <td>0</td>\n",
              "      <td>0</td>\n",
              "      <td>86387</td>\n",
              "      <td>2017-03-06</td>\n",
              "      <td>1</td>\n",
              "      <td>54.08</td>\n",
              "    </tr>\n",
              "    <tr>\n",
              "      <th>3</th>\n",
              "      <td>13503</td>\n",
              "      <td>NaN</td>\n",
              "      <td>Theodore</td>\n",
              "      <td>NaN</td>\n",
              "      <td>Gomez</td>\n",
              "      <td>NaN</td>\n",
              "      <td>2103 Baldwin Dr</td>\n",
              "      <td>NaN</td>\n",
              "      <td>Liverpool</td>\n",
              "      <td>England</td>\n",
              "      <td>United Kingdom</td>\n",
              "      <td>L4 4HB</td>\n",
              "      <td>1 (11) 500 555-0167</td>\n",
              "      <td>1977-10-18</td>\n",
              "      <td>Partial College</td>\n",
              "      <td>Skilled Manual</td>\n",
              "      <td>M</td>\n",
              "      <td>M</td>\n",
              "      <td>1</td>\n",
              "      <td>2</td>\n",
              "      <td>1</td>\n",
              "      <td>2</td>\n",
              "      <td>61481</td>\n",
              "      <td>2017-03-06</td>\n",
              "      <td>1</td>\n",
              "      <td>56.93</td>\n",
              "    </tr>\n",
              "    <tr>\n",
              "      <th>4</th>\n",
              "      <td>22803</td>\n",
              "      <td>NaN</td>\n",
              "      <td>Marshall</td>\n",
              "      <td>J</td>\n",
              "      <td>Shan</td>\n",
              "      <td>NaN</td>\n",
              "      <td>Am Gallberg 234</td>\n",
              "      <td>NaN</td>\n",
              "      <td>Werne</td>\n",
              "      <td>Nordrhein-Westfalen</td>\n",
              "      <td>Germany</td>\n",
              "      <td>59368</td>\n",
              "      <td>1 (11) 500 555-0113</td>\n",
              "      <td>1975-02-05</td>\n",
              "      <td>Partial College</td>\n",
              "      <td>Skilled Manual</td>\n",
              "      <td>M</td>\n",
              "      <td>S</td>\n",
              "      <td>1</td>\n",
              "      <td>1</td>\n",
              "      <td>0</td>\n",
              "      <td>0</td>\n",
              "      <td>51804</td>\n",
              "      <td>2017-03-06</td>\n",
              "      <td>1</td>\n",
              "      <td>55.41</td>\n",
              "    </tr>\n",
              "  </tbody>\n",
              "</table>\n",
              "</div>"
            ],
            "text/plain": [
              "   CustomerID Title FirstName  ... LastUpdated BikeBuyer AvgMonthSpend\n",
              "0       21173   NaN      Chad  ...  2017-03-06         1         50.97\n",
              "1       13249   NaN      Ryan  ...  2017-03-06         1         53.11\n",
              "2       29350   NaN     Julia  ...  2017-03-06         1         54.08\n",
              "3       13503   NaN  Theodore  ...  2017-03-06         1         56.93\n",
              "4       22803   NaN  Marshall  ...  2017-03-06         1         55.41\n",
              "\n",
              "[5 rows x 26 columns]"
            ]
          },
          "metadata": {},
          "execution_count": 48
        }
      ]
    },
    {
      "cell_type": "code",
      "metadata": {
        "colab": {
          "base_uri": "https://localhost:8080/"
        },
        "id": "Z5gEhNgMRLGw",
        "outputId": "bea32240-cfab-46d2-8aec-5abc519a1c28"
      },
      "source": [
        "df.info()"
      ],
      "execution_count": null,
      "outputs": [
        {
          "output_type": "stream",
          "name": "stdout",
          "text": [
            "<class 'pandas.core.frame.DataFrame'>\n",
            "Int64Index: 18361 entries, 0 to 18360\n",
            "Data columns (total 26 columns):\n",
            " #   Column                Non-Null Count  Dtype  \n",
            "---  ------                --------------  -----  \n",
            " 0   CustomerID            18361 non-null  int64  \n",
            " 1   Title                 101 non-null    object \n",
            " 2   FirstName             18361 non-null  object \n",
            " 3   MiddleName            10572 non-null  object \n",
            " 4   LastName              18361 non-null  object \n",
            " 5   Suffix                3 non-null      object \n",
            " 6   AddressLine1          18361 non-null  object \n",
            " 7   AddressLine2          311 non-null    object \n",
            " 8   City                  18361 non-null  object \n",
            " 9   StateProvinceName     18361 non-null  object \n",
            " 10  CountryRegionName     18361 non-null  object \n",
            " 11  PostalCode            18361 non-null  object \n",
            " 12  PhoneNumber           18361 non-null  object \n",
            " 13  BirthDate             18361 non-null  object \n",
            " 14  Education             18361 non-null  object \n",
            " 15  Occupation            18361 non-null  object \n",
            " 16  Gender                18361 non-null  object \n",
            " 17  MaritalStatus         18361 non-null  object \n",
            " 18  HomeOwnerFlag         18361 non-null  int64  \n",
            " 19  NumberCarsOwned       18361 non-null  int64  \n",
            " 20  NumberChildrenAtHome  18361 non-null  int64  \n",
            " 21  TotalChildren         18361 non-null  int64  \n",
            " 22  YearlyIncome          18361 non-null  int64  \n",
            " 23  LastUpdated           18361 non-null  object \n",
            " 24  BikeBuyer             18361 non-null  int64  \n",
            " 25  AvgMonthSpend         18361 non-null  float64\n",
            "dtypes: float64(1), int64(7), object(18)\n",
            "memory usage: 3.8+ MB\n"
          ]
        }
      ]
    },
    {
      "cell_type": "code",
      "metadata": {
        "id": "Pwq6SW4dF0jz"
      },
      "source": [
        "colsDrop = ['CustomerID', 'Title', 'FirstName', 'MiddleName', 'LastName', 'Suffix',\n",
        " 'AddressLine1', 'AddressLine2', 'City', 'StateProvinceName', 'PostalCode', 'PhoneNumber', \n",
        " 'Education', 'HomeOwnerFlag', 'TotalChildren', 'LastUpdated']\n"
      ],
      "execution_count": null,
      "outputs": []
    },
    {
      "cell_type": "markdown",
      "metadata": {
        "id": "o-6T-unTx50v"
      },
      "source": [
        "# (b) Create a new Data Frame with the selected attributes only."
      ]
    },
    {
      "cell_type": "markdown",
      "metadata": {
        "id": "G4BQMnRbxtR0"
      },
      "source": [
        "inplace=true returns none and false with return a copy of deleted columns ;default value is false"
      ]
    },
    {
      "cell_type": "code",
      "metadata": {
        "colab": {
          "base_uri": "https://localhost:8080/",
          "height": 524
        },
        "id": "QDu4XnC4yCa7",
        "outputId": "cf7ed83b-f460-4c89-a629-75b05348fc98"
      },
      "source": [
        "df.drop(columns=colsDrop,inplace=True,axis=1)\n",
        "df"
      ],
      "execution_count": null,
      "outputs": [
        {
          "output_type": "execute_result",
          "data": {
            "text/html": [
              "<div>\n",
              "<style scoped>\n",
              "    .dataframe tbody tr th:only-of-type {\n",
              "        vertical-align: middle;\n",
              "    }\n",
              "\n",
              "    .dataframe tbody tr th {\n",
              "        vertical-align: top;\n",
              "    }\n",
              "\n",
              "    .dataframe thead th {\n",
              "        text-align: right;\n",
              "    }\n",
              "</style>\n",
              "<table border=\"1\" class=\"dataframe\">\n",
              "  <thead>\n",
              "    <tr style=\"text-align: right;\">\n",
              "      <th></th>\n",
              "      <th>CountryRegionName</th>\n",
              "      <th>BirthDate</th>\n",
              "      <th>Occupation</th>\n",
              "      <th>Gender</th>\n",
              "      <th>MaritalStatus</th>\n",
              "      <th>NumberCarsOwned</th>\n",
              "      <th>NumberChildrenAtHome</th>\n",
              "      <th>YearlyIncome</th>\n",
              "      <th>BikeBuyer</th>\n",
              "      <th>AvgMonthSpend</th>\n",
              "    </tr>\n",
              "  </thead>\n",
              "  <tbody>\n",
              "    <tr>\n",
              "      <th>0</th>\n",
              "      <td>Australia</td>\n",
              "      <td>1987-11-13</td>\n",
              "      <td>Clerical</td>\n",
              "      <td>M</td>\n",
              "      <td>M</td>\n",
              "      <td>3</td>\n",
              "      <td>0</td>\n",
              "      <td>81916</td>\n",
              "      <td>1</td>\n",
              "      <td>50.97</td>\n",
              "    </tr>\n",
              "    <tr>\n",
              "      <th>1</th>\n",
              "      <td>Canada</td>\n",
              "      <td>1972-07-21</td>\n",
              "      <td>Clerical</td>\n",
              "      <td>M</td>\n",
              "      <td>M</td>\n",
              "      <td>2</td>\n",
              "      <td>1</td>\n",
              "      <td>81076</td>\n",
              "      <td>1</td>\n",
              "      <td>53.11</td>\n",
              "    </tr>\n",
              "    <tr>\n",
              "      <th>2</th>\n",
              "      <td>United States</td>\n",
              "      <td>1985-11-09</td>\n",
              "      <td>Clerical</td>\n",
              "      <td>F</td>\n",
              "      <td>S</td>\n",
              "      <td>3</td>\n",
              "      <td>0</td>\n",
              "      <td>86387</td>\n",
              "      <td>1</td>\n",
              "      <td>54.08</td>\n",
              "    </tr>\n",
              "    <tr>\n",
              "      <th>3</th>\n",
              "      <td>United Kingdom</td>\n",
              "      <td>1977-10-18</td>\n",
              "      <td>Skilled Manual</td>\n",
              "      <td>M</td>\n",
              "      <td>M</td>\n",
              "      <td>2</td>\n",
              "      <td>1</td>\n",
              "      <td>61481</td>\n",
              "      <td>1</td>\n",
              "      <td>56.93</td>\n",
              "    </tr>\n",
              "    <tr>\n",
              "      <th>4</th>\n",
              "      <td>Germany</td>\n",
              "      <td>1975-02-05</td>\n",
              "      <td>Skilled Manual</td>\n",
              "      <td>M</td>\n",
              "      <td>S</td>\n",
              "      <td>1</td>\n",
              "      <td>0</td>\n",
              "      <td>51804</td>\n",
              "      <td>1</td>\n",
              "      <td>55.41</td>\n",
              "    </tr>\n",
              "    <tr>\n",
              "      <th>...</th>\n",
              "      <td>...</td>\n",
              "      <td>...</td>\n",
              "      <td>...</td>\n",
              "      <td>...</td>\n",
              "      <td>...</td>\n",
              "      <td>...</td>\n",
              "      <td>...</td>\n",
              "      <td>...</td>\n",
              "      <td>...</td>\n",
              "      <td>...</td>\n",
              "    </tr>\n",
              "    <tr>\n",
              "      <th>18356</th>\n",
              "      <td>United States</td>\n",
              "      <td>1990-11-11</td>\n",
              "      <td>Skilled Manual</td>\n",
              "      <td>F</td>\n",
              "      <td>M</td>\n",
              "      <td>1</td>\n",
              "      <td>0</td>\n",
              "      <td>52953</td>\n",
              "      <td>0</td>\n",
              "      <td>48.14</td>\n",
              "    </tr>\n",
              "    <tr>\n",
              "      <th>18357</th>\n",
              "      <td>Australia</td>\n",
              "      <td>1992-10-13</td>\n",
              "      <td>Skilled Manual</td>\n",
              "      <td>F</td>\n",
              "      <td>S</td>\n",
              "      <td>2</td>\n",
              "      <td>0</td>\n",
              "      <td>60992</td>\n",
              "      <td>1</td>\n",
              "      <td>50.23</td>\n",
              "    </tr>\n",
              "    <tr>\n",
              "      <th>18358</th>\n",
              "      <td>United States</td>\n",
              "      <td>1983-11-24</td>\n",
              "      <td>Skilled Manual</td>\n",
              "      <td>F</td>\n",
              "      <td>S</td>\n",
              "      <td>2</td>\n",
              "      <td>0</td>\n",
              "      <td>51859</td>\n",
              "      <td>1</td>\n",
              "      <td>49.56</td>\n",
              "    </tr>\n",
              "    <tr>\n",
              "      <th>18359</th>\n",
              "      <td>Canada</td>\n",
              "      <td>1995-06-15</td>\n",
              "      <td>Clerical</td>\n",
              "      <td>F</td>\n",
              "      <td>S</td>\n",
              "      <td>0</td>\n",
              "      <td>0</td>\n",
              "      <td>87177</td>\n",
              "      <td>0</td>\n",
              "      <td>51.42</td>\n",
              "    </tr>\n",
              "    <tr>\n",
              "      <th>18360</th>\n",
              "      <td>United States</td>\n",
              "      <td>1986-03-26</td>\n",
              "      <td>Professional</td>\n",
              "      <td>F</td>\n",
              "      <td>M</td>\n",
              "      <td>2</td>\n",
              "      <td>0</td>\n",
              "      <td>136856</td>\n",
              "      <td>1</td>\n",
              "      <td>52.27</td>\n",
              "    </tr>\n",
              "  </tbody>\n",
              "</table>\n",
              "<p>18361 rows × 10 columns</p>\n",
              "</div>"
            ],
            "text/plain": [
              "      CountryRegionName   BirthDate  ... BikeBuyer AvgMonthSpend\n",
              "0             Australia  1987-11-13  ...         1         50.97\n",
              "1                Canada  1972-07-21  ...         1         53.11\n",
              "2         United States  1985-11-09  ...         1         54.08\n",
              "3        United Kingdom  1977-10-18  ...         1         56.93\n",
              "4               Germany  1975-02-05  ...         1         55.41\n",
              "...                 ...         ...  ...       ...           ...\n",
              "18356     United States  1990-11-11  ...         0         48.14\n",
              "18357         Australia  1992-10-13  ...         1         50.23\n",
              "18358     United States  1983-11-24  ...         1         49.56\n",
              "18359            Canada  1995-06-15  ...         0         51.42\n",
              "18360     United States  1986-03-26  ...         1         52.27\n",
              "\n",
              "[18361 rows x 10 columns]"
            ]
          },
          "metadata": {},
          "execution_count": 53
        }
      ]
    },
    {
      "cell_type": "markdown",
      "metadata": {
        "id": "EcWR5v1SziQK"
      },
      "source": [
        "# **Part II: Data Preprocessing and Transformation**"
      ]
    },
    {
      "cell_type": "markdown",
      "metadata": {
        "id": "ymAVt5_yzuf2"
      },
      "source": [
        "Depending on the data type of each attribute, transform each object from your preprocessed data.\n",
        "Use all the data rows (~= 18000 rows) with the selected features as input to apply all the tasks below, do not perform each task on the smaller data set that you got from your random sampling result.\n"
      ]
    },
    {
      "cell_type": "markdown",
      "metadata": {
        "id": "lRmYpf4Nzx0i"
      },
      "source": [
        "# (a) Handling Null values\n"
      ]
    },
    {
      "cell_type": "markdown",
      "metadata": {
        "id": "kcGQHSkX0MEP"
      },
      "source": [
        "df.isnull().sum(): returns the number of null values and df.isnull() returns true if the col has a null value"
      ]
    },
    {
      "cell_type": "code",
      "metadata": {
        "colab": {
          "base_uri": "https://localhost:8080/"
        },
        "id": "HTKz5HcB0A04",
        "outputId": "d99de3ab-ab82-4a03-a2a9-4204b054aad6"
      },
      "source": [
        "df.isnull().sum()"
      ],
      "execution_count": null,
      "outputs": [
        {
          "output_type": "execute_result",
          "data": {
            "text/plain": [
              "CountryRegionName       0\n",
              "BirthDate               0\n",
              "Occupation              0\n",
              "Gender                  0\n",
              "MaritalStatus           0\n",
              "NumberCarsOwned         0\n",
              "NumberChildrenAtHome    0\n",
              "YearlyIncome            0\n",
              "BikeBuyer               0\n",
              "AvgMonthSpend           0\n",
              "dtype: int64"
            ]
          },
          "metadata": {},
          "execution_count": 61
        }
      ]
    },
    {
      "cell_type": "markdown",
      "metadata": {
        "id": "G8TiBLF4CzHk"
      },
      "source": [
        "# (c) Discretization (Binning) on Continuous attributes or Categorical Attributes with too many different\n",
        "values"
      ]
    },
    {
      "cell_type": "markdown",
      "metadata": {
        "id": "6MaqFEiv-AKG"
      },
      "source": [
        "binning tends to improve non linearity .it can also be used to identify missing outliers"
      ]
    },
    {
      "cell_type": "code",
      "metadata": {
        "colab": {
          "base_uri": "https://localhost:8080/",
          "height": 419
        },
        "id": "c9vwB1KnC0Lv",
        "outputId": "c3991ac3-a43f-4232-c3b6-5da27e0f3bc6"
      },
      "source": [
        "df['YearlyIncome'] = pd.cut(df['YearlyIncome'], bins=10,labels=[i for i in range(1,11)])  \n",
        "df['AvgMonthSpend'] = pd.cut(df['AvgMonthSpend'], bins=10,labels=[i for i in range(1,11)])  \n",
        "df                  "
      ],
      "execution_count": null,
      "outputs": [
        {
          "output_type": "execute_result",
          "data": {
            "text/html": [
              "<div>\n",
              "<style scoped>\n",
              "    .dataframe tbody tr th:only-of-type {\n",
              "        vertical-align: middle;\n",
              "    }\n",
              "\n",
              "    .dataframe tbody tr th {\n",
              "        vertical-align: top;\n",
              "    }\n",
              "\n",
              "    .dataframe thead th {\n",
              "        text-align: right;\n",
              "    }\n",
              "</style>\n",
              "<table border=\"1\" class=\"dataframe\">\n",
              "  <thead>\n",
              "    <tr style=\"text-align: right;\">\n",
              "      <th></th>\n",
              "      <th>CountryRegionName</th>\n",
              "      <th>BirthDate</th>\n",
              "      <th>Occupation</th>\n",
              "      <th>Gender</th>\n",
              "      <th>MaritalStatus</th>\n",
              "      <th>NumberCarsOwned</th>\n",
              "      <th>NumberChildrenAtHome</th>\n",
              "      <th>YearlyIncome</th>\n",
              "      <th>BikeBuyer</th>\n",
              "      <th>AvgMonthSpend</th>\n",
              "    </tr>\n",
              "  </thead>\n",
              "  <tbody>\n",
              "    <tr>\n",
              "      <th>0</th>\n",
              "      <td>Australia</td>\n",
              "      <td>1987-11-13</td>\n",
              "      <td>Clerical</td>\n",
              "      <td>M</td>\n",
              "      <td>M</td>\n",
              "      <td>3</td>\n",
              "      <td>0</td>\n",
              "      <td>5</td>\n",
              "      <td>1</td>\n",
              "      <td>4</td>\n",
              "    </tr>\n",
              "    <tr>\n",
              "      <th>1</th>\n",
              "      <td>Canada</td>\n",
              "      <td>1972-07-21</td>\n",
              "      <td>Clerical</td>\n",
              "      <td>M</td>\n",
              "      <td>M</td>\n",
              "      <td>2</td>\n",
              "      <td>1</td>\n",
              "      <td>5</td>\n",
              "      <td>1</td>\n",
              "      <td>5</td>\n",
              "    </tr>\n",
              "    <tr>\n",
              "      <th>2</th>\n",
              "      <td>United States</td>\n",
              "      <td>1985-11-09</td>\n",
              "      <td>Clerical</td>\n",
              "      <td>F</td>\n",
              "      <td>S</td>\n",
              "      <td>3</td>\n",
              "      <td>0</td>\n",
              "      <td>6</td>\n",
              "      <td>1</td>\n",
              "      <td>5</td>\n",
              "    </tr>\n",
              "    <tr>\n",
              "      <th>3</th>\n",
              "      <td>United Kingdom</td>\n",
              "      <td>1977-10-18</td>\n",
              "      <td>Skilled Manual</td>\n",
              "      <td>M</td>\n",
              "      <td>M</td>\n",
              "      <td>2</td>\n",
              "      <td>1</td>\n",
              "      <td>4</td>\n",
              "      <td>1</td>\n",
              "      <td>7</td>\n",
              "    </tr>\n",
              "    <tr>\n",
              "      <th>4</th>\n",
              "      <td>Germany</td>\n",
              "      <td>1975-02-05</td>\n",
              "      <td>Skilled Manual</td>\n",
              "      <td>M</td>\n",
              "      <td>S</td>\n",
              "      <td>1</td>\n",
              "      <td>0</td>\n",
              "      <td>3</td>\n",
              "      <td>1</td>\n",
              "      <td>6</td>\n",
              "    </tr>\n",
              "    <tr>\n",
              "      <th>...</th>\n",
              "      <td>...</td>\n",
              "      <td>...</td>\n",
              "      <td>...</td>\n",
              "      <td>...</td>\n",
              "      <td>...</td>\n",
              "      <td>...</td>\n",
              "      <td>...</td>\n",
              "      <td>...</td>\n",
              "      <td>...</td>\n",
              "      <td>...</td>\n",
              "    </tr>\n",
              "    <tr>\n",
              "      <th>18356</th>\n",
              "      <td>United States</td>\n",
              "      <td>1990-11-11</td>\n",
              "      <td>Skilled Manual</td>\n",
              "      <td>F</td>\n",
              "      <td>M</td>\n",
              "      <td>1</td>\n",
              "      <td>0</td>\n",
              "      <td>3</td>\n",
              "      <td>0</td>\n",
              "      <td>2</td>\n",
              "    </tr>\n",
              "    <tr>\n",
              "      <th>18357</th>\n",
              "      <td>Australia</td>\n",
              "      <td>1992-10-13</td>\n",
              "      <td>Skilled Manual</td>\n",
              "      <td>F</td>\n",
              "      <td>S</td>\n",
              "      <td>2</td>\n",
              "      <td>0</td>\n",
              "      <td>4</td>\n",
              "      <td>1</td>\n",
              "      <td>3</td>\n",
              "    </tr>\n",
              "    <tr>\n",
              "      <th>18358</th>\n",
              "      <td>United States</td>\n",
              "      <td>1983-11-24</td>\n",
              "      <td>Skilled Manual</td>\n",
              "      <td>F</td>\n",
              "      <td>S</td>\n",
              "      <td>2</td>\n",
              "      <td>0</td>\n",
              "      <td>3</td>\n",
              "      <td>1</td>\n",
              "      <td>3</td>\n",
              "    </tr>\n",
              "    <tr>\n",
              "      <th>18359</th>\n",
              "      <td>Canada</td>\n",
              "      <td>1995-06-15</td>\n",
              "      <td>Clerical</td>\n",
              "      <td>F</td>\n",
              "      <td>S</td>\n",
              "      <td>0</td>\n",
              "      <td>0</td>\n",
              "      <td>6</td>\n",
              "      <td>0</td>\n",
              "      <td>4</td>\n",
              "    </tr>\n",
              "    <tr>\n",
              "      <th>18360</th>\n",
              "      <td>United States</td>\n",
              "      <td>1986-03-26</td>\n",
              "      <td>Professional</td>\n",
              "      <td>F</td>\n",
              "      <td>M</td>\n",
              "      <td>2</td>\n",
              "      <td>0</td>\n",
              "      <td>10</td>\n",
              "      <td>1</td>\n",
              "      <td>4</td>\n",
              "    </tr>\n",
              "  </tbody>\n",
              "</table>\n",
              "<p>18361 rows × 10 columns</p>\n",
              "</div>"
            ],
            "text/plain": [
              "      CountryRegionName   BirthDate  ... BikeBuyer AvgMonthSpend\n",
              "0             Australia  1987-11-13  ...         1             4\n",
              "1                Canada  1972-07-21  ...         1             5\n",
              "2         United States  1985-11-09  ...         1             5\n",
              "3        United Kingdom  1977-10-18  ...         1             7\n",
              "4               Germany  1975-02-05  ...         1             6\n",
              "...                 ...         ...  ...       ...           ...\n",
              "18356     United States  1990-11-11  ...         0             2\n",
              "18357         Australia  1992-10-13  ...         1             3\n",
              "18358     United States  1983-11-24  ...         1             3\n",
              "18359            Canada  1995-06-15  ...         0             4\n",
              "18360     United States  1986-03-26  ...         1             4\n",
              "\n",
              "[18361 rows x 10 columns]"
            ]
          },
          "metadata": {},
          "execution_count": 70
        }
      ]
    },
    {
      "cell_type": "code",
      "metadata": {
        "colab": {
          "base_uri": "https://localhost:8080/",
          "height": 204
        },
        "id": "scBU2OS3_2_e",
        "outputId": "2688782b-d275-4439-be22-61c79537d328"
      },
      "source": [
        "#Converting BirthDate to Age\n",
        "import datetime\n",
        "df['BirthDate']= pd.to_datetime(df['BirthDate'])\n",
        "today_date= datetime.datetime.now()\n",
        "def age_calc(birth_date,today=today_date):\n",
        "    y=today-birth_date\n",
        "    return y.days//365\n",
        "df['Age']=df['BirthDate'].apply(lambda x: age_calc(x))\n",
        "df.drop(['BirthDate'],axis=1,inplace=True)\n",
        "df.head()"
      ],
      "execution_count": null,
      "outputs": [
        {
          "output_type": "execute_result",
          "data": {
            "text/html": [
              "<div>\n",
              "<style scoped>\n",
              "    .dataframe tbody tr th:only-of-type {\n",
              "        vertical-align: middle;\n",
              "    }\n",
              "\n",
              "    .dataframe tbody tr th {\n",
              "        vertical-align: top;\n",
              "    }\n",
              "\n",
              "    .dataframe thead th {\n",
              "        text-align: right;\n",
              "    }\n",
              "</style>\n",
              "<table border=\"1\" class=\"dataframe\">\n",
              "  <thead>\n",
              "    <tr style=\"text-align: right;\">\n",
              "      <th></th>\n",
              "      <th>CountryRegionName</th>\n",
              "      <th>Occupation</th>\n",
              "      <th>Gender</th>\n",
              "      <th>MaritalStatus</th>\n",
              "      <th>NumberCarsOwned</th>\n",
              "      <th>NumberChildrenAtHome</th>\n",
              "      <th>YearlyIncome</th>\n",
              "      <th>BikeBuyer</th>\n",
              "      <th>AvgMonthSpend</th>\n",
              "      <th>Age</th>\n",
              "    </tr>\n",
              "  </thead>\n",
              "  <tbody>\n",
              "    <tr>\n",
              "      <th>0</th>\n",
              "      <td>Australia</td>\n",
              "      <td>Clerical</td>\n",
              "      <td>M</td>\n",
              "      <td>M</td>\n",
              "      <td>3</td>\n",
              "      <td>0</td>\n",
              "      <td>5</td>\n",
              "      <td>1</td>\n",
              "      <td>4</td>\n",
              "      <td>33</td>\n",
              "    </tr>\n",
              "    <tr>\n",
              "      <th>1</th>\n",
              "      <td>Canada</td>\n",
              "      <td>Clerical</td>\n",
              "      <td>M</td>\n",
              "      <td>M</td>\n",
              "      <td>2</td>\n",
              "      <td>1</td>\n",
              "      <td>5</td>\n",
              "      <td>1</td>\n",
              "      <td>5</td>\n",
              "      <td>49</td>\n",
              "    </tr>\n",
              "    <tr>\n",
              "      <th>2</th>\n",
              "      <td>United States</td>\n",
              "      <td>Clerical</td>\n",
              "      <td>F</td>\n",
              "      <td>S</td>\n",
              "      <td>3</td>\n",
              "      <td>0</td>\n",
              "      <td>6</td>\n",
              "      <td>1</td>\n",
              "      <td>5</td>\n",
              "      <td>35</td>\n",
              "    </tr>\n",
              "    <tr>\n",
              "      <th>3</th>\n",
              "      <td>United Kingdom</td>\n",
              "      <td>Skilled Manual</td>\n",
              "      <td>M</td>\n",
              "      <td>M</td>\n",
              "      <td>2</td>\n",
              "      <td>1</td>\n",
              "      <td>4</td>\n",
              "      <td>1</td>\n",
              "      <td>7</td>\n",
              "      <td>43</td>\n",
              "    </tr>\n",
              "    <tr>\n",
              "      <th>4</th>\n",
              "      <td>Germany</td>\n",
              "      <td>Skilled Manual</td>\n",
              "      <td>M</td>\n",
              "      <td>S</td>\n",
              "      <td>1</td>\n",
              "      <td>0</td>\n",
              "      <td>3</td>\n",
              "      <td>1</td>\n",
              "      <td>6</td>\n",
              "      <td>46</td>\n",
              "    </tr>\n",
              "  </tbody>\n",
              "</table>\n",
              "</div>"
            ],
            "text/plain": [
              "  CountryRegionName      Occupation Gender  ... BikeBuyer  AvgMonthSpend  Age\n",
              "0         Australia        Clerical      M  ...         1              4   33\n",
              "1            Canada        Clerical      M  ...         1              5   49\n",
              "2     United States        Clerical      F  ...         1              5   35\n",
              "3    United Kingdom  Skilled Manual      M  ...         1              7   43\n",
              "4           Germany  Skilled Manual      M  ...         1              6   46\n",
              "\n",
              "[5 rows x 10 columns]"
            ]
          },
          "metadata": {},
          "execution_count": 71
        }
      ]
    },
    {
      "cell_type": "markdown",
      "metadata": {
        "id": "aD0USjKeHiaC"
      },
      "source": [
        "# (d) Standardization/Normalization"
      ]
    },
    {
      "cell_type": "code",
      "metadata": {
        "id": "wZhSppJcHjTP",
        "colab": {
          "base_uri": "https://localhost:8080/",
          "height": 204
        },
        "outputId": "ae9f1d22-6ba4-484a-929e-0ee9e9976c10"
      },
      "source": [
        "import pandas as pd\n",
        "from sklearn.preprocessing import MinMaxScaler\n",
        "import numpy as np\n",
        "scaler = MinMaxScaler()\n",
        "df[['YearlyIncome']]=scaler.fit_transform(df[['YearlyIncome']])\n",
        "df[['NumberCarsOwned']]=scaler.fit_transform(df[['NumberCarsOwned']])\n",
        "df[['NumberChildrenAtHome']]=scaler.fit_transform(df[['NumberChildrenAtHome']])\n",
        "df[['Age']]=scaler.fit_transform(df[['Age']])\n",
        "df[['AvgMonthSpend']]=scaler.fit_transform(df[['AvgMonthSpend']])\n",
        "df.head()\n"
      ],
      "execution_count": null,
      "outputs": [
        {
          "output_type": "execute_result",
          "data": {
            "text/html": [
              "<div>\n",
              "<style scoped>\n",
              "    .dataframe tbody tr th:only-of-type {\n",
              "        vertical-align: middle;\n",
              "    }\n",
              "\n",
              "    .dataframe tbody tr th {\n",
              "        vertical-align: top;\n",
              "    }\n",
              "\n",
              "    .dataframe thead th {\n",
              "        text-align: right;\n",
              "    }\n",
              "</style>\n",
              "<table border=\"1\" class=\"dataframe\">\n",
              "  <thead>\n",
              "    <tr style=\"text-align: right;\">\n",
              "      <th></th>\n",
              "      <th>CountryRegionName</th>\n",
              "      <th>Occupation</th>\n",
              "      <th>Gender</th>\n",
              "      <th>MaritalStatus</th>\n",
              "      <th>NumberCarsOwned</th>\n",
              "      <th>NumberChildrenAtHome</th>\n",
              "      <th>YearlyIncome</th>\n",
              "      <th>BikeBuyer</th>\n",
              "      <th>AvgMonthSpend</th>\n",
              "      <th>Age</th>\n",
              "    </tr>\n",
              "  </thead>\n",
              "  <tbody>\n",
              "    <tr>\n",
              "      <th>0</th>\n",
              "      <td>Australia</td>\n",
              "      <td>Clerical</td>\n",
              "      <td>M</td>\n",
              "      <td>M</td>\n",
              "      <td>0.6</td>\n",
              "      <td>0.000000</td>\n",
              "      <td>0.444444</td>\n",
              "      <td>1</td>\n",
              "      <td>0.333333</td>\n",
              "      <td>0.183099</td>\n",
              "    </tr>\n",
              "    <tr>\n",
              "      <th>1</th>\n",
              "      <td>Canada</td>\n",
              "      <td>Clerical</td>\n",
              "      <td>M</td>\n",
              "      <td>M</td>\n",
              "      <td>0.4</td>\n",
              "      <td>0.333333</td>\n",
              "      <td>0.444444</td>\n",
              "      <td>1</td>\n",
              "      <td>0.444444</td>\n",
              "      <td>0.408451</td>\n",
              "    </tr>\n",
              "    <tr>\n",
              "      <th>2</th>\n",
              "      <td>United States</td>\n",
              "      <td>Clerical</td>\n",
              "      <td>F</td>\n",
              "      <td>S</td>\n",
              "      <td>0.6</td>\n",
              "      <td>0.000000</td>\n",
              "      <td>0.555556</td>\n",
              "      <td>1</td>\n",
              "      <td>0.444444</td>\n",
              "      <td>0.211268</td>\n",
              "    </tr>\n",
              "    <tr>\n",
              "      <th>3</th>\n",
              "      <td>United Kingdom</td>\n",
              "      <td>Skilled Manual</td>\n",
              "      <td>M</td>\n",
              "      <td>M</td>\n",
              "      <td>0.4</td>\n",
              "      <td>0.333333</td>\n",
              "      <td>0.333333</td>\n",
              "      <td>1</td>\n",
              "      <td>0.666667</td>\n",
              "      <td>0.323944</td>\n",
              "    </tr>\n",
              "    <tr>\n",
              "      <th>4</th>\n",
              "      <td>Germany</td>\n",
              "      <td>Skilled Manual</td>\n",
              "      <td>M</td>\n",
              "      <td>S</td>\n",
              "      <td>0.2</td>\n",
              "      <td>0.000000</td>\n",
              "      <td>0.222222</td>\n",
              "      <td>1</td>\n",
              "      <td>0.555556</td>\n",
              "      <td>0.366197</td>\n",
              "    </tr>\n",
              "  </tbody>\n",
              "</table>\n",
              "</div>"
            ],
            "text/plain": [
              "  CountryRegionName      Occupation Gender  ... BikeBuyer  AvgMonthSpend       Age\n",
              "0         Australia        Clerical      M  ...         1       0.333333  0.183099\n",
              "1            Canada        Clerical      M  ...         1       0.444444  0.408451\n",
              "2     United States        Clerical      F  ...         1       0.444444  0.211268\n",
              "3    United Kingdom  Skilled Manual      M  ...         1       0.666667  0.323944\n",
              "4           Germany  Skilled Manual      M  ...         1       0.555556  0.366197\n",
              "\n",
              "[5 rows x 10 columns]"
            ]
          },
          "metadata": {},
          "execution_count": 72
        }
      ]
    },
    {
      "cell_type": "markdown",
      "metadata": {
        "id": "6Mb8FxC6448j"
      },
      "source": [
        "# (e) Binarization (One Hot Encoding) "
      ]
    },
    {
      "cell_type": "code",
      "metadata": {
        "colab": {
          "base_uri": "https://localhost:8080/",
          "height": 681
        },
        "id": "6q6Z_Mo11OW_",
        "outputId": "085d6347-e938-4b34-9dea-c01258520184"
      },
      "source": [
        "import numpy as np\n",
        "import pandas as pd\n",
        "#mapping \n",
        "df['Male']=df['Gender'].map({'M':1,'F':0})  # 0 if the customer is male and 1 if the customer is female\n",
        "df.drop(['Gender'],axis=1,inplace=True)\n",
        "df['MaritalStatus']=df['MaritalStatus'].map({'M':1,'S':0}) # 1 if the customer is married and 0 if the customer is single\n",
        "#one hot encoding\n",
        "one_hot_encoded_data = pd.get_dummies(df, columns = ['CountryRegionName'])\n",
        "one_hot_encoded_data.head()"
      ],
      "execution_count": null,
      "outputs": [
        {
          "output_type": "error",
          "ename": "KeyError",
          "evalue": "ignored",
          "traceback": [
            "\u001b[0;31m---------------------------------------------------------------------------\u001b[0m",
            "\u001b[0;31mKeyError\u001b[0m                                  Traceback (most recent call last)",
            "\u001b[0;32m/usr/local/lib/python3.7/dist-packages/pandas/core/indexes/base.py\u001b[0m in \u001b[0;36mget_loc\u001b[0;34m(self, key, method, tolerance)\u001b[0m\n\u001b[1;32m   2897\u001b[0m             \u001b[0;32mtry\u001b[0m\u001b[0;34m:\u001b[0m\u001b[0;34m\u001b[0m\u001b[0;34m\u001b[0m\u001b[0m\n\u001b[0;32m-> 2898\u001b[0;31m                 \u001b[0;32mreturn\u001b[0m \u001b[0mself\u001b[0m\u001b[0;34m.\u001b[0m\u001b[0m_engine\u001b[0m\u001b[0;34m.\u001b[0m\u001b[0mget_loc\u001b[0m\u001b[0;34m(\u001b[0m\u001b[0mcasted_key\u001b[0m\u001b[0;34m)\u001b[0m\u001b[0;34m\u001b[0m\u001b[0;34m\u001b[0m\u001b[0m\n\u001b[0m\u001b[1;32m   2899\u001b[0m             \u001b[0;32mexcept\u001b[0m \u001b[0mKeyError\u001b[0m \u001b[0;32mas\u001b[0m \u001b[0merr\u001b[0m\u001b[0;34m:\u001b[0m\u001b[0;34m\u001b[0m\u001b[0;34m\u001b[0m\u001b[0m\n",
            "\u001b[0;32mpandas/_libs/index.pyx\u001b[0m in \u001b[0;36mpandas._libs.index.IndexEngine.get_loc\u001b[0;34m()\u001b[0m\n",
            "\u001b[0;32mpandas/_libs/index.pyx\u001b[0m in \u001b[0;36mpandas._libs.index.IndexEngine.get_loc\u001b[0;34m()\u001b[0m\n",
            "\u001b[0;32mpandas/_libs/hashtable_class_helper.pxi\u001b[0m in \u001b[0;36mpandas._libs.hashtable.PyObjectHashTable.get_item\u001b[0;34m()\u001b[0m\n",
            "\u001b[0;32mpandas/_libs/hashtable_class_helper.pxi\u001b[0m in \u001b[0;36mpandas._libs.hashtable.PyObjectHashTable.get_item\u001b[0;34m()\u001b[0m\n",
            "\u001b[0;31mKeyError\u001b[0m: 'Gender'",
            "\nThe above exception was the direct cause of the following exception:\n",
            "\u001b[0;31mKeyError\u001b[0m                                  Traceback (most recent call last)",
            "\u001b[0;32m<ipython-input-32-3063b5168906>\u001b[0m in \u001b[0;36m<module>\u001b[0;34m()\u001b[0m\n\u001b[1;32m      2\u001b[0m \u001b[0;32mimport\u001b[0m \u001b[0mpandas\u001b[0m \u001b[0;32mas\u001b[0m \u001b[0mpd\u001b[0m\u001b[0;34m\u001b[0m\u001b[0;34m\u001b[0m\u001b[0m\n\u001b[1;32m      3\u001b[0m \u001b[0;31m#mapping\u001b[0m\u001b[0;34m\u001b[0m\u001b[0;34m\u001b[0m\u001b[0;34m\u001b[0m\u001b[0m\n\u001b[0;32m----> 4\u001b[0;31m \u001b[0mdf\u001b[0m\u001b[0;34m[\u001b[0m\u001b[0;34m'Male'\u001b[0m\u001b[0;34m]\u001b[0m\u001b[0;34m=\u001b[0m\u001b[0mdf\u001b[0m\u001b[0;34m[\u001b[0m\u001b[0;34m'Gender'\u001b[0m\u001b[0;34m]\u001b[0m\u001b[0;34m.\u001b[0m\u001b[0mmap\u001b[0m\u001b[0;34m(\u001b[0m\u001b[0;34m{\u001b[0m\u001b[0;34m'M'\u001b[0m\u001b[0;34m:\u001b[0m\u001b[0;36m1\u001b[0m\u001b[0;34m,\u001b[0m\u001b[0;34m'F'\u001b[0m\u001b[0;34m:\u001b[0m\u001b[0;36m0\u001b[0m\u001b[0;34m}\u001b[0m\u001b[0;34m)\u001b[0m  \u001b[0;31m# 0 if the customer is male and 1 if the customer is female\u001b[0m\u001b[0;34m\u001b[0m\u001b[0;34m\u001b[0m\u001b[0m\n\u001b[0m\u001b[1;32m      5\u001b[0m \u001b[0mdf\u001b[0m\u001b[0;34m.\u001b[0m\u001b[0mdrop\u001b[0m\u001b[0;34m(\u001b[0m\u001b[0;34m[\u001b[0m\u001b[0;34m'Gender'\u001b[0m\u001b[0;34m]\u001b[0m\u001b[0;34m,\u001b[0m\u001b[0maxis\u001b[0m\u001b[0;34m=\u001b[0m\u001b[0;36m1\u001b[0m\u001b[0;34m,\u001b[0m\u001b[0minplace\u001b[0m\u001b[0;34m=\u001b[0m\u001b[0;32mTrue\u001b[0m\u001b[0;34m)\u001b[0m\u001b[0;34m\u001b[0m\u001b[0;34m\u001b[0m\u001b[0m\n\u001b[1;32m      6\u001b[0m \u001b[0mdf\u001b[0m\u001b[0;34m[\u001b[0m\u001b[0;34m'MaritalStatus'\u001b[0m\u001b[0;34m]\u001b[0m\u001b[0;34m=\u001b[0m\u001b[0mdf\u001b[0m\u001b[0;34m[\u001b[0m\u001b[0;34m'MaritalStatus'\u001b[0m\u001b[0;34m]\u001b[0m\u001b[0;34m.\u001b[0m\u001b[0mmap\u001b[0m\u001b[0;34m(\u001b[0m\u001b[0;34m{\u001b[0m\u001b[0;34m'M'\u001b[0m\u001b[0;34m:\u001b[0m\u001b[0;36m1\u001b[0m\u001b[0;34m,\u001b[0m\u001b[0;34m'S'\u001b[0m\u001b[0;34m:\u001b[0m\u001b[0;36m0\u001b[0m\u001b[0;34m}\u001b[0m\u001b[0;34m)\u001b[0m \u001b[0;31m# 1 if the customer is married and 0 if the customer is single\u001b[0m\u001b[0;34m\u001b[0m\u001b[0;34m\u001b[0m\u001b[0m\n",
            "\u001b[0;32m/usr/local/lib/python3.7/dist-packages/pandas/core/frame.py\u001b[0m in \u001b[0;36m__getitem__\u001b[0;34m(self, key)\u001b[0m\n\u001b[1;32m   2904\u001b[0m             \u001b[0;32mif\u001b[0m \u001b[0mself\u001b[0m\u001b[0;34m.\u001b[0m\u001b[0mcolumns\u001b[0m\u001b[0;34m.\u001b[0m\u001b[0mnlevels\u001b[0m \u001b[0;34m>\u001b[0m \u001b[0;36m1\u001b[0m\u001b[0;34m:\u001b[0m\u001b[0;34m\u001b[0m\u001b[0;34m\u001b[0m\u001b[0m\n\u001b[1;32m   2905\u001b[0m                 \u001b[0;32mreturn\u001b[0m \u001b[0mself\u001b[0m\u001b[0;34m.\u001b[0m\u001b[0m_getitem_multilevel\u001b[0m\u001b[0;34m(\u001b[0m\u001b[0mkey\u001b[0m\u001b[0;34m)\u001b[0m\u001b[0;34m\u001b[0m\u001b[0;34m\u001b[0m\u001b[0m\n\u001b[0;32m-> 2906\u001b[0;31m             \u001b[0mindexer\u001b[0m \u001b[0;34m=\u001b[0m \u001b[0mself\u001b[0m\u001b[0;34m.\u001b[0m\u001b[0mcolumns\u001b[0m\u001b[0;34m.\u001b[0m\u001b[0mget_loc\u001b[0m\u001b[0;34m(\u001b[0m\u001b[0mkey\u001b[0m\u001b[0;34m)\u001b[0m\u001b[0;34m\u001b[0m\u001b[0;34m\u001b[0m\u001b[0m\n\u001b[0m\u001b[1;32m   2907\u001b[0m             \u001b[0;32mif\u001b[0m \u001b[0mis_integer\u001b[0m\u001b[0;34m(\u001b[0m\u001b[0mindexer\u001b[0m\u001b[0;34m)\u001b[0m\u001b[0;34m:\u001b[0m\u001b[0;34m\u001b[0m\u001b[0;34m\u001b[0m\u001b[0m\n\u001b[1;32m   2908\u001b[0m                 \u001b[0mindexer\u001b[0m \u001b[0;34m=\u001b[0m \u001b[0;34m[\u001b[0m\u001b[0mindexer\u001b[0m\u001b[0;34m]\u001b[0m\u001b[0;34m\u001b[0m\u001b[0;34m\u001b[0m\u001b[0m\n",
            "\u001b[0;32m/usr/local/lib/python3.7/dist-packages/pandas/core/indexes/base.py\u001b[0m in \u001b[0;36mget_loc\u001b[0;34m(self, key, method, tolerance)\u001b[0m\n\u001b[1;32m   2898\u001b[0m                 \u001b[0;32mreturn\u001b[0m \u001b[0mself\u001b[0m\u001b[0;34m.\u001b[0m\u001b[0m_engine\u001b[0m\u001b[0;34m.\u001b[0m\u001b[0mget_loc\u001b[0m\u001b[0;34m(\u001b[0m\u001b[0mcasted_key\u001b[0m\u001b[0;34m)\u001b[0m\u001b[0;34m\u001b[0m\u001b[0;34m\u001b[0m\u001b[0m\n\u001b[1;32m   2899\u001b[0m             \u001b[0;32mexcept\u001b[0m \u001b[0mKeyError\u001b[0m \u001b[0;32mas\u001b[0m \u001b[0merr\u001b[0m\u001b[0;34m:\u001b[0m\u001b[0;34m\u001b[0m\u001b[0;34m\u001b[0m\u001b[0m\n\u001b[0;32m-> 2900\u001b[0;31m                 \u001b[0;32mraise\u001b[0m \u001b[0mKeyError\u001b[0m\u001b[0;34m(\u001b[0m\u001b[0mkey\u001b[0m\u001b[0;34m)\u001b[0m \u001b[0;32mfrom\u001b[0m \u001b[0merr\u001b[0m\u001b[0;34m\u001b[0m\u001b[0;34m\u001b[0m\u001b[0m\n\u001b[0m\u001b[1;32m   2901\u001b[0m \u001b[0;34m\u001b[0m\u001b[0m\n\u001b[1;32m   2902\u001b[0m         \u001b[0;32mif\u001b[0m \u001b[0mtolerance\u001b[0m \u001b[0;32mis\u001b[0m \u001b[0;32mnot\u001b[0m \u001b[0;32mNone\u001b[0m\u001b[0;34m:\u001b[0m\u001b[0;34m\u001b[0m\u001b[0;34m\u001b[0m\u001b[0m\n",
            "\u001b[0;31mKeyError\u001b[0m: 'Gender'"
          ]
        }
      ]
    },
    {
      "cell_type": "markdown",
      "metadata": {
        "id": "QuXtp0xi-PYo"
      },
      "source": [
        "# #Part III: Calculating Proximity /Correlation Analysis of two features\n",
        "Make sure each attribute is transformed in a same scale for numeric attributes and Binarization for each\n",
        "nominal attribute, and each discretized numeric attribute to standardization. Make sure to apply a correct\n",
        "similarity measure for nominal (one hot encoding)/binary attributes and numeric attributes respectively"
      ]
    },
    {
      "cell_type": "markdown",
      "metadata": {
        "id": "67Tatuhj-QTz"
      },
      "source": [
        "# a) Calculate Similarity in Simple Matching, Jaccard Similarity, and Cosine Similarity between two\n",
        "following objects of your transformed input data. "
      ]
    },
    {
      "cell_type": "code",
      "metadata": {
        "colab": {
          "base_uri": "https://localhost:8080/"
        },
        "id": "-BUf-XV_-bxb",
        "outputId": "027f0600-93ab-4d67-fd31-652cda671129"
      },
      "source": [
        "from sklearn.metrics import jaccard_score\n",
        "from scipy.spatial.distance import cosine\n",
        "#SMC function\n",
        "def SMC(x,y):\n",
        "  x,y=x.values,y.values\n",
        "  return np.sum(x==y)/len(x)\n",
        "\n",
        "print('simple matching coefficient',SMC(df['BikeBuyer'],df['Male']))\n",
        "print('Jaccard similarity score',jaccard_score(df['BikeBuyer'],df['Male']))\n",
        "print('Cosine Similarity Score:',1-cosine(df['BikeBuyer'],df['Male']))\n",
        " \n"
      ],
      "execution_count": null,
      "outputs": [
        {
          "output_type": "stream",
          "name": "stdout",
          "text": [
            "simple matching coefficient 0.5583029246773051\n",
            "Jaccard similarity score 0.41078174949142693\n",
            "Cosine Similarity Score: 0.5828971389993611\n"
          ]
        }
      ]
    },
    {
      "cell_type": "markdown",
      "metadata": {
        "id": "hP5ZIossGPzw"
      },
      "source": [
        "making a correlation heatmap between all features using seaborn and matplot library"
      ]
    },
    {
      "cell_type": "code",
      "metadata": {
        "colab": {
          "base_uri": "https://localhost:8080/",
          "height": 381
        },
        "id": "eaXMR9qsGCKj",
        "outputId": "99b9be08-0030-4f8c-bcc8-9d002a369f5a"
      },
      "source": [
        "import seaborn as sns \n",
        "import matplotlib.pyplot as plt\n",
        "\n",
        "covar_mat=df.corr()\n",
        "sns.heatmap(covar_mat)\n",
        "plt.show()"
      ],
      "execution_count": null,
      "outputs": [
        {
          "output_type": "display_data",
          "data": {
            "image/png": "[encoded data removed]",
            "text/plain": [
              "<Figure size 432x288 with 2 Axes>"
            ]
          },
          "metadata": {
            "needs_background": "light"
          }
        }
      ]
    },
    {
      "cell_type": "markdown",
      "metadata": {
        "id": "_bptNYTLHvU6"
      },
      "source": [
        "# **ASSIGNMENT 4 PCA**"
      ]
    },
    {
      "cell_type": "markdown",
      "metadata": {
        "id": "Se23GfW2BIn5"
      },
      "source": [
        "Principal Component Analysis, or PCA, is a dimensionality-reduction method that is often used to reduce the dimensionality of large data sets, by transforming a large set of variables into a smaller one that still contains most of the information in the large set."
      ]
    },
    {
      "cell_type": "markdown",
      "metadata": {
        "id": "Emy6yT-xB3Qx"
      },
      "source": [
        "##Step by Step Explanation of PCA\n",
        "1.   STEP 1: STANDARDIZATION\n",
        "2.    STEP 2: COVARIANCE MATRIX COMPUTATION TO IDENTIFY CORRELATION\n",
        "3. STEP 3: COMPUTE THE EIGENVECTORS AND EIGENVALUES OF THE COVARIANCE MATRIX TO IDENTIFY THE PRINCIPAL COMPONENTS\n",
        "4. STEP 4: CREATE A FEATURE VECTOR TO DECIDE WHICH COMPONENTS TO KEEP\n",
        "5. LAST STEP: RECAST THE DATA ALONG THE PRINCIPAL COMPONENTS AXES\n",
        "\n",
        "\n",
        "\n"
      ]
    },
    {
      "cell_type": "markdown",
      "metadata": {
        "id": "_S8HkwZPgLTG"
      },
      "source": [
        "## IMPLEMENTATION"
      ]
    },
    {
      "cell_type": "markdown",
      "metadata": {
        "id": "ZSrrI8ww8ZeJ"
      },
      "source": [
        "# Q1: Load the load_digit dataset from sklearn.datasets. This dataset is made up of 1797 8x8 images. Each image is of a hand-written digit. Therefore, each training example has 64 features (8X8) pixel values. Hence, the size of dataset is 1797X64. Implement feature selection technique using Principal Component Analysis (PCA) using step-by-step approach."
      ]
    },
    {
      "cell_type": "code",
      "metadata": {
        "id": "-8WqzImP8mHW"
      },
      "source": [
        "#we will use sklearn's module datasets and import the load_digits dataset from it.\n",
        "from sklearn.datasets import load_digits\n",
        "#load_digits will give us both labels and the data. To fetch the data, we will call .data and for fetching the labels .target.\n",
        "digits=load_digits()['data']\n",
        "digits_target=load_digits()['target']\n",
        "\n"
      ],
      "execution_count": null,
      "outputs": []
    },
    {
      "cell_type": "markdown",
      "metadata": {
        "id": "dBoTgGK09Lr5"
      },
      "source": [
        "# Step by step analysis\n"
      ]
    },
    {
      "cell_type": "code",
      "metadata": {
        "colab": {
          "base_uri": "https://localhost:8080/"
        },
        "id": "B2LkO7wc9O6W",
        "outputId": "ca4123a1-6102-421c-9560-eca72f593d90"
      },
      "source": [
        "#STEP 1: STANDARDIZATION\n",
        "#It is a common practice to normalize our data before feeding it to any machine learning algorithm.\n",
        "from sklearn.preprocessing import StandardScaler\n",
        "X_std = StandardScaler().fit_transform(digits)\n",
        "X_std.shape\n",
        "X_std"
      ],
      "execution_count": null,
      "outputs": [
        {
          "output_type": "execute_result",
          "data": {
            "text/plain": [
              "array([[ 0.        , -0.33501649, -0.04308102, ..., -1.14664746,\n",
              "        -0.5056698 , -0.19600752],\n",
              "       [ 0.        , -0.33501649, -1.09493684, ...,  0.54856067,\n",
              "        -0.5056698 , -0.19600752],\n",
              "       [ 0.        , -0.33501649, -1.09493684, ...,  1.56568555,\n",
              "         1.6951369 , -0.19600752],\n",
              "       ...,\n",
              "       [ 0.        , -0.33501649, -0.88456568, ..., -0.12952258,\n",
              "        -0.5056698 , -0.19600752],\n",
              "       [ 0.        , -0.33501649, -0.67419451, ...,  0.8876023 ,\n",
              "        -0.5056698 , -0.19600752],\n",
              "       [ 0.        , -0.33501649,  1.00877481, ...,  0.8876023 ,\n",
              "        -0.26113572, -0.19600752]])"
            ]
          },
          "metadata": {},
          "execution_count": 2
        }
      ]
    },
    {
      "cell_type": "code",
      "metadata": {
        "colab": {
          "base_uri": "https://localhost:8080/",
          "height": 493
        },
        "id": "G6URf_ZQAVVY",
        "outputId": "3fd7fab5-e898-48bb-d557-00d114daefa8"
      },
      "source": [
        "#STEP 2: COVARIANCE MATRIX COMPUTATION\n",
        "#based on standardized data we will build the covariance matrix. \n",
        "#It gives the variance between each feature in our original dataset.\n",
        "import numpy as np\n",
        "import matplotlib.pyplot as plt\n",
        "import seaborn as sns\n",
        "import pandas as pd\n",
        "cov=np.cov(X_std.T)\n",
        "#fig=plt.figure(figsize(12,12))\n",
        "sns.heatmap(pd.DataFrame(cov))\n",
        "plt.show()\n",
        "print(cov)"
      ],
      "execution_count": null,
      "outputs": [
        {
          "output_type": "display_data",
          "data": {
            "image/png": "[encoded data removed]",
            "text/plain": [
              "<Figure size 432x288 with 2 Axes>"
            ]
          },
          "metadata": {
            "needs_background": "light"
          }
        },
        {
          "output_type": "stream",
          "name": "stdout",
          "text": [
            "[[ 0.          0.          0.         ...  0.          0.\n",
            "   0.        ]\n",
            " [ 0.          1.00055679  0.55692803 ... -0.02988686  0.02656195\n",
            "  -0.04391324]\n",
            " [ 0.          0.55692803  1.00055679 ... -0.04120565  0.07263924\n",
            "   0.08256908]\n",
            " ...\n",
            " [ 0.         -0.02988686 -0.04120565 ...  1.00055679  0.64868875\n",
            "   0.26213704]\n",
            " [ 0.          0.02656195  0.07263924 ...  0.64868875  1.00055679\n",
            "   0.62077355]\n",
            " [ 0.         -0.04391324  0.08256908 ...  0.26213704  0.62077355\n",
            "   1.00055679]]\n"
          ]
        }
      ]
    },
    {
      "cell_type": "markdown",
      "metadata": {
        "id": "kMwLggUoCJaO"
      },
      "source": [
        "or"
      ]
    },
    {
      "cell_type": "code",
      "metadata": {
        "colab": {
          "base_uri": "https://localhost:8080/"
        },
        "id": "tkLHZlfKCCxs",
        "outputId": "42b7907f-75a8-452c-b5d4-4a08c7e87405"
      },
      "source": [
        "import numpy as np\n",
        "X_cov = np.cov(X_std.T)\n",
        "X_cov"
      ],
      "execution_count": null,
      "outputs": [
        {
          "output_type": "execute_result",
          "data": {
            "text/plain": [
              "array([[ 0.        ,  0.        ,  0.        , ...,  0.        ,\n",
              "         0.        ,  0.        ],\n",
              "       [ 0.        ,  1.00055679,  0.55692803, ..., -0.02988686,\n",
              "         0.02656195, -0.04391324],\n",
              "       [ 0.        ,  0.55692803,  1.00055679, ..., -0.04120565,\n",
              "         0.07263924,  0.08256908],\n",
              "       ...,\n",
              "       [ 0.        , -0.02988686, -0.04120565, ...,  1.00055679,\n",
              "         0.64868875,  0.26213704],\n",
              "       [ 0.        ,  0.02656195,  0.07263924, ...,  0.64868875,\n",
              "         1.00055679,  0.62077355],\n",
              "       [ 0.        , -0.04391324,  0.08256908, ...,  0.26213704,\n",
              "         0.62077355,  1.00055679]])"
            ]
          },
          "metadata": {},
          "execution_count": 6
        }
      ]
    },
    {
      "cell_type": "code",
      "metadata": {
        "colab": {
          "base_uri": "https://localhost:8080/",
          "height": 720
        },
        "id": "Gfmd6oEJCRD8",
        "outputId": "576d716c-c52e-475d-c0f9-465db10aa6ad"
      },
      "source": [
        "#STEP 3: COMPUTE THE EIGENVECTORS AND EIGENVALUES OF THE COVARIANCE MATRIX TO IDENTIFY THE PRINCIPAL COMPONENTS\n",
        "#each eigenvector will have an eigenvalue and sum of the eigenvalues represent the variance in the dataset. \n",
        "#We can get the location of maximum variance by calculating eigenvalue. \n",
        "#The eigenvector with lowest eigenvalue will give the lowest amount of variation in the dataset.\n",
        "\n",
        "eig_vals,eig_vecs=np.linalg.eig(X_cov)\n",
        "lam_sum = sum(eig_vals)\n",
        "explained_variance = [(lam_k/lam_sum) for lam_k in sorted(eig_vals, reverse=True)]\n",
        "print(eig_vals)\n",
        "print(eig_vecs)\n",
        "\n",
        "import matplotlib.pyplot as plt\n",
        "fig = plt.figure(figsize=(12,12))\n",
        "fig = plt.figure(figsize=(6,4))\n",
        "ax1 = fig.add_subplot(111)\n",
        "ax1.plot(np.cumsum(explained_variance))\n",
        "ax1.set_ylim([0,1.0])\n",
        "ax1.set_xlabel('Number of Principal Components')\n",
        "ax1.set_ylabel('Cumulative explained variance')\n",
        "ax1.set_title('Explained Variance')\n",
        "\n",
        "plt.show()"
      ],
      "execution_count": null,
      "outputs": [
        {
          "output_type": "stream",
          "name": "stdout",
          "text": [
            "[7.34477606 5.83549054 5.15396118 3.96623597 2.9663452  2.57204442\n",
            " 2.40600941 2.06867355 1.82993314 1.78951739 1.69784616 1.57287889\n",
            " 1.38870781 1.35933609 1.32152536 1.16829176 1.08368678 0.99977862\n",
            " 0.97438293 0.90891242 0.82271926 0.77631014 0.71155675 0.64552365\n",
            " 0.59527399 0.5765018  0.52673155 0.5106363  0.48686381 0.45560107\n",
            " 0.44285155 0.42230086 0.3991063  0.39110111 0.36094517 0.34860306\n",
            " 0.3195963  0.29406627 0.05037444 0.27692285 0.06328961 0.258273\n",
            " 0.24783029 0.2423566  0.07635394 0.08246812 0.09018543 0.09840876\n",
            " 0.10250434 0.11188655 0.11932898 0.12426371 0.13321081 0.14311427\n",
            " 0.217582   0.15818474 0.16875236 0.20799593 0.17612894 0.2000909\n",
            " 0.18983516 0.         0.         0.        ]\n",
            "[[ 0.          0.          0.         ...  1.          0.\n",
            "   0.        ]\n",
            " [ 0.18223392 -0.04702701  0.02358821 ...  0.          0.\n",
            "   0.        ]\n",
            " [ 0.285868   -0.0595648  -0.05679875 ...  0.          0.\n",
            "   0.        ]\n",
            " ...\n",
            " [ 0.103198    0.24261778 -0.02227952 ...  0.          0.\n",
            "   0.        ]\n",
            " [ 0.1198106   0.16508926  0.10036559 ...  0.          0.\n",
            "   0.        ]\n",
            " [ 0.07149362  0.07132924  0.09244589 ...  0.          0.\n",
            "   0.        ]]\n"
          ]
        },
        {
          "output_type": "display_data",
          "data": {
            "text/plain": [
              "<Figure size 864x864 with 0 Axes>"
            ]
          },
          "metadata": {}
        },
        {
          "output_type": "display_data",
          "data": {
            "image/png": "[encoded data removed]",
            "text/plain": [
              "<Figure size 432x288 with 1 Axes>"
            ]
          },
          "metadata": {
            "needs_background": "light"
          }
        }
      ]
    },
    {
      "cell_type": "code",
      "metadata": {
        "colab": {
          "base_uri": "https://localhost:8080/"
        },
        "id": "0qrvceRZD7O8",
        "outputId": "0730de5d-64b5-48fb-ecbb-e1110c604311"
      },
      "source": [
        "print([(j, np.cumsum(explained_variance)[j]) for j in range(len(explained_variance[:64]))])"
      ],
      "execution_count": null,
      "outputs": [
        {
          "output_type": "stream",
          "name": "stdout",
          "text": [
            "[(0, 0.12033916097734906), (1, 0.2159497050083281), (2, 0.30039385393457346), (3, 0.36537793300981514), (4, 0.4139794817694792), (5, 0.4561206804621987), (6, 0.49554150849787254), (7, 0.5294353177442558), (8, 0.559417527860508), (9, 0.5887375533730302), (10, 0.6165556080085336), (11, 0.6423261589343537), (12, 0.6650791920919963), (13, 0.6873509894871398), (14, 0.7090032838056322), (15, 0.7281449498700535), (16, 0.7459004207217355), (17, 0.7622811134645797), (18, 0.7782457151532031), (19, 0.7931376270240813), (20, 0.8066173226822607), (21, 0.8193366363846083), (22, 0.8309950098905278), (23, 0.841571475875891), (24, 0.8513246353478721), (25, 0.8607702252451921), (26, 0.8694003635148994), (27, 0.8777667920515845), (28, 0.8857437245356969), (29, 0.8932084382449575), (30, 0.9004642597586603), (31, 0.9073833722134721), (32, 0.9139224575691982), (33, 0.920330383307658), (34, 0.9262442244248815), (35, 0.9319558484771168), (36, 0.9371922165112831), (37, 0.9420102923757345), (38, 0.9465474849743191), (39, 0.9507791125066469), (40, 0.9548396432064373), (41, 0.9588104912891956), (42, 0.9623754243206217), (43, 0.9657832961353248), (44, 0.9690616494882043), (45, 0.9721719695616579), (46, 0.9750577225027472), (47, 0.9778226151379827), (48, 0.9804143645467974), (49, 0.9827591946021538), (50, 0.9849417631792738), (51, 0.9869777395245276), (52, 0.9889328637847258), (53, 0.9907660487766976), (54, 0.9924455126516535), (55, 0.9940578732742208), (56, 0.9955355002152817), (57, 0.9968866843286526), (58, 0.9981376917536255), (59, 0.9991746490551827), (60, 1.0000000000000007), (61, 1.0000000000000007), (62, 1.0000000000000007), (63, 1.0000000000000007)]\n"
          ]
        }
      ]
    },
    {
      "cell_type": "code",
      "metadata": {
        "colab": {
          "base_uri": "https://localhost:8080/"
        },
        "id": "WXvcV_h_ECa9",
        "outputId": "adba1f32-8f9a-4bbc-b17d-27462396fe63"
      },
      "source": [
        "#STEP 4: FEATURE VECTOR\n",
        "#we create a feature vector to decide which principal components to keep \n",
        "feature_vec=[]\n",
        "eigenvals_sorted=sorted(eig_vals,reverse=True)[:30]\n",
        "for val in eigenvals_sorted:\n",
        "  index=(np.where(eig_vals==val))[0][0]\n",
        "  feature_vec.append(eig_vecs[:,index])\n",
        "feature_vec=np.array(feature_vec)\n",
        "feature_vec.shape"
      ],
      "execution_count": null,
      "outputs": [
        {
          "output_type": "execute_result",
          "data": {
            "text/plain": [
              "(30, 64)"
            ]
          },
          "metadata": {},
          "execution_count": 23
        }
      ]
    },
    {
      "cell_type": "markdown",
      "metadata": {
        "id": "anN-TYBWIsLN"
      },
      "source": [
        "In this step, which is the last one, the aim is to use the feature vector formed using the eigenvectors of the covariance matrix, to reorient the data from the original axes to the ones represented by the principal components (hence the name Principal Components Analysis). This can be done by multiplying the transpose of the original data set by the transpose of the feature vector."
      ]
    },
    {
      "cell_type": "code",
      "metadata": {
        "colab": {
          "base_uri": "https://localhost:8080/",
          "height": 439
        },
        "id": "XGYlBLbQFkKg",
        "outputId": "8a4522c9-3a5a-49fd-f409-74bedcc58efb"
      },
      "source": [
        "#Step 5 :Recast the data along the principal components axes\n",
        "import pandas as pd\n",
        "final=np.dot(X_std,np.transpose(feature_vec))\n",
        "projected=pd.DataFrame(final)\n",
        "projected\n"
      ],
      "execution_count": null,
      "outputs": [
        {
          "output_type": "execute_result",
          "data": {
            "text/html": [
              "<div>\n",
              "<style scoped>\n",
              "    .dataframe tbody tr th:only-of-type {\n",
              "        vertical-align: middle;\n",
              "    }\n",
              "\n",
              "    .dataframe tbody tr th {\n",
              "        vertical-align: top;\n",
              "    }\n",
              "\n",
              "    .dataframe thead th {\n",
              "        text-align: right;\n",
              "    }\n",
              "</style>\n",
              "<table border=\"1\" class=\"dataframe\">\n",
              "  <thead>\n",
              "    <tr style=\"text-align: right;\">\n",
              "      <th></th>\n",
              "      <th>0</th>\n",
              "      <th>1</th>\n",
              "      <th>2</th>\n",
              "      <th>3</th>\n",
              "      <th>4</th>\n",
              "      <th>5</th>\n",
              "      <th>6</th>\n",
              "      <th>7</th>\n",
              "      <th>8</th>\n",
              "      <th>9</th>\n",
              "      <th>10</th>\n",
              "      <th>11</th>\n",
              "      <th>12</th>\n",
              "      <th>13</th>\n",
              "      <th>14</th>\n",
              "      <th>15</th>\n",
              "      <th>16</th>\n",
              "      <th>17</th>\n",
              "      <th>18</th>\n",
              "      <th>19</th>\n",
              "      <th>20</th>\n",
              "      <th>21</th>\n",
              "      <th>22</th>\n",
              "      <th>23</th>\n",
              "      <th>24</th>\n",
              "      <th>25</th>\n",
              "      <th>26</th>\n",
              "      <th>27</th>\n",
              "      <th>28</th>\n",
              "      <th>29</th>\n",
              "    </tr>\n",
              "  </thead>\n",
              "  <tbody>\n",
              "    <tr>\n",
              "      <th>0</th>\n",
              "      <td>-1.914214</td>\n",
              "      <td>0.954502</td>\n",
              "      <td>-3.946035</td>\n",
              "      <td>-2.028723</td>\n",
              "      <td>-0.267173</td>\n",
              "      <td>0.530327</td>\n",
              "      <td>1.415321</td>\n",
              "      <td>-1.496062</td>\n",
              "      <td>-0.124914</td>\n",
              "      <td>-0.822246</td>\n",
              "      <td>-0.499693</td>\n",
              "      <td>0.789466</td>\n",
              "      <td>0.228125</td>\n",
              "      <td>-0.195142</td>\n",
              "      <td>-0.837040</td>\n",
              "      <td>-0.104341</td>\n",
              "      <td>0.185323</td>\n",
              "      <td>0.090057</td>\n",
              "      <td>0.412754</td>\n",
              "      <td>0.430517</td>\n",
              "      <td>0.450994</td>\n",
              "      <td>-0.558703</td>\n",
              "      <td>0.508826</td>\n",
              "      <td>-0.758896</td>\n",
              "      <td>0.464500</td>\n",
              "      <td>-0.732176</td>\n",
              "      <td>-0.327318</td>\n",
              "      <td>0.157022</td>\n",
              "      <td>-0.404918</td>\n",
              "      <td>-0.324594</td>\n",
              "    </tr>\n",
              "    <tr>\n",
              "      <th>1</th>\n",
              "      <td>-0.588980</td>\n",
              "      <td>-0.924636</td>\n",
              "      <td>3.924755</td>\n",
              "      <td>1.779850</td>\n",
              "      <td>-0.993430</td>\n",
              "      <td>-0.675652</td>\n",
              "      <td>-1.878565</td>\n",
              "      <td>-0.556336</td>\n",
              "      <td>-1.079877</td>\n",
              "      <td>0.087451</td>\n",
              "      <td>-0.505000</td>\n",
              "      <td>-0.641593</td>\n",
              "      <td>-0.048361</td>\n",
              "      <td>-0.392054</td>\n",
              "      <td>0.744412</td>\n",
              "      <td>0.214072</td>\n",
              "      <td>-0.101727</td>\n",
              "      <td>0.422000</td>\n",
              "      <td>0.553085</td>\n",
              "      <td>-0.069676</td>\n",
              "      <td>0.909818</td>\n",
              "      <td>0.242434</td>\n",
              "      <td>-0.478472</td>\n",
              "      <td>0.491158</td>\n",
              "      <td>-0.790504</td>\n",
              "      <td>-0.067788</td>\n",
              "      <td>1.525555</td>\n",
              "      <td>-0.742482</td>\n",
              "      <td>0.855856</td>\n",
              "      <td>-0.277084</td>\n",
              "    </tr>\n",
              "    <tr>\n",
              "      <th>2</th>\n",
              "      <td>-1.302039</td>\n",
              "      <td>0.317189</td>\n",
              "      <td>3.023333</td>\n",
              "      <td>2.043376</td>\n",
              "      <td>-2.081155</td>\n",
              "      <td>0.935121</td>\n",
              "      <td>1.296200</td>\n",
              "      <td>-1.156160</td>\n",
              "      <td>-0.785606</td>\n",
              "      <td>-1.099206</td>\n",
              "      <td>2.196453</td>\n",
              "      <td>2.310276</td>\n",
              "      <td>-0.566874</td>\n",
              "      <td>-0.995772</td>\n",
              "      <td>1.170505</td>\n",
              "      <td>-0.399017</td>\n",
              "      <td>-0.240298</td>\n",
              "      <td>0.465223</td>\n",
              "      <td>-1.065556</td>\n",
              "      <td>-1.133454</td>\n",
              "      <td>-0.525917</td>\n",
              "      <td>-0.069262</td>\n",
              "      <td>-1.276142</td>\n",
              "      <td>-0.389437</td>\n",
              "      <td>0.407580</td>\n",
              "      <td>0.121614</td>\n",
              "      <td>-0.373418</td>\n",
              "      <td>0.205099</td>\n",
              "      <td>0.362138</td>\n",
              "      <td>1.181186</td>\n",
              "    </tr>\n",
              "    <tr>\n",
              "      <th>3</th>\n",
              "      <td>3.020770</td>\n",
              "      <td>0.868772</td>\n",
              "      <td>-0.801744</td>\n",
              "      <td>2.187039</td>\n",
              "      <td>-0.556813</td>\n",
              "      <td>0.727124</td>\n",
              "      <td>-0.959766</td>\n",
              "      <td>1.382638</td>\n",
              "      <td>-0.259075</td>\n",
              "      <td>0.744555</td>\n",
              "      <td>-1.065129</td>\n",
              "      <td>-0.491755</td>\n",
              "      <td>-0.166579</td>\n",
              "      <td>1.008790</td>\n",
              "      <td>0.141893</td>\n",
              "      <td>1.000781</td>\n",
              "      <td>-0.950687</td>\n",
              "      <td>0.400034</td>\n",
              "      <td>1.490825</td>\n",
              "      <td>0.308128</td>\n",
              "      <td>0.560421</td>\n",
              "      <td>0.167976</td>\n",
              "      <td>0.573332</td>\n",
              "      <td>-0.532997</td>\n",
              "      <td>0.084318</td>\n",
              "      <td>0.466793</td>\n",
              "      <td>-0.154232</td>\n",
              "      <td>-0.403244</td>\n",
              "      <td>-0.291934</td>\n",
              "      <td>-1.244539</td>\n",
              "    </tr>\n",
              "    <tr>\n",
              "      <th>4</th>\n",
              "      <td>-4.528949</td>\n",
              "      <td>1.093480</td>\n",
              "      <td>0.973121</td>\n",
              "      <td>1.419510</td>\n",
              "      <td>-1.715106</td>\n",
              "      <td>1.431592</td>\n",
              "      <td>-1.073649</td>\n",
              "      <td>0.968240</td>\n",
              "      <td>1.660216</td>\n",
              "      <td>1.174593</td>\n",
              "      <td>-1.017440</td>\n",
              "      <td>1.365994</td>\n",
              "      <td>-0.343716</td>\n",
              "      <td>-0.113469</td>\n",
              "      <td>-0.732635</td>\n",
              "      <td>-0.210692</td>\n",
              "      <td>-0.094411</td>\n",
              "      <td>0.552371</td>\n",
              "      <td>1.613976</td>\n",
              "      <td>1.086368</td>\n",
              "      <td>0.495644</td>\n",
              "      <td>0.185698</td>\n",
              "      <td>0.960864</td>\n",
              "      <td>-0.184642</td>\n",
              "      <td>-0.563999</td>\n",
              "      <td>2.142481</td>\n",
              "      <td>-0.064456</td>\n",
              "      <td>0.746668</td>\n",
              "      <td>-1.076306</td>\n",
              "      <td>0.297665</td>\n",
              "    </tr>\n",
              "    <tr>\n",
              "      <th>...</th>\n",
              "      <td>...</td>\n",
              "      <td>...</td>\n",
              "      <td>...</td>\n",
              "      <td>...</td>\n",
              "      <td>...</td>\n",
              "      <td>...</td>\n",
              "      <td>...</td>\n",
              "      <td>...</td>\n",
              "      <td>...</td>\n",
              "      <td>...</td>\n",
              "      <td>...</td>\n",
              "      <td>...</td>\n",
              "      <td>...</td>\n",
              "      <td>...</td>\n",
              "      <td>...</td>\n",
              "      <td>...</td>\n",
              "      <td>...</td>\n",
              "      <td>...</td>\n",
              "      <td>...</td>\n",
              "      <td>...</td>\n",
              "      <td>...</td>\n",
              "      <td>...</td>\n",
              "      <td>...</td>\n",
              "      <td>...</td>\n",
              "      <td>...</td>\n",
              "      <td>...</td>\n",
              "      <td>...</td>\n",
              "      <td>...</td>\n",
              "      <td>...</td>\n",
              "      <td>...</td>\n",
              "    </tr>\n",
              "    <tr>\n",
              "      <th>1792</th>\n",
              "      <td>-0.104331</td>\n",
              "      <td>-0.255024</td>\n",
              "      <td>-3.765861</td>\n",
              "      <td>1.947006</td>\n",
              "      <td>-0.190094</td>\n",
              "      <td>-0.555760</td>\n",
              "      <td>-0.531222</td>\n",
              "      <td>-0.476475</td>\n",
              "      <td>-1.152430</td>\n",
              "      <td>-0.473054</td>\n",
              "      <td>-0.635879</td>\n",
              "      <td>-0.803622</td>\n",
              "      <td>1.205195</td>\n",
              "      <td>-0.700724</td>\n",
              "      <td>-0.187246</td>\n",
              "      <td>-0.161669</td>\n",
              "      <td>0.504438</td>\n",
              "      <td>-0.357642</td>\n",
              "      <td>-0.956725</td>\n",
              "      <td>0.816109</td>\n",
              "      <td>0.030250</td>\n",
              "      <td>0.783514</td>\n",
              "      <td>-0.676671</td>\n",
              "      <td>-0.042743</td>\n",
              "      <td>0.359572</td>\n",
              "      <td>0.066849</td>\n",
              "      <td>-0.203868</td>\n",
              "      <td>0.058615</td>\n",
              "      <td>-0.979933</td>\n",
              "      <td>-0.122796</td>\n",
              "    </tr>\n",
              "    <tr>\n",
              "      <th>1793</th>\n",
              "      <td>-2.423234</td>\n",
              "      <td>1.429611</td>\n",
              "      <td>-3.045245</td>\n",
              "      <td>-2.632089</td>\n",
              "      <td>-0.822902</td>\n",
              "      <td>0.004061</td>\n",
              "      <td>1.106872</td>\n",
              "      <td>-2.330903</td>\n",
              "      <td>-0.569455</td>\n",
              "      <td>-1.654173</td>\n",
              "      <td>-0.460155</td>\n",
              "      <td>0.530551</td>\n",
              "      <td>0.858305</td>\n",
              "      <td>0.885069</td>\n",
              "      <td>0.702222</td>\n",
              "      <td>-1.098425</td>\n",
              "      <td>0.301699</td>\n",
              "      <td>0.311522</td>\n",
              "      <td>-0.307535</td>\n",
              "      <td>0.110083</td>\n",
              "      <td>-0.957759</td>\n",
              "      <td>0.041950</td>\n",
              "      <td>0.379564</td>\n",
              "      <td>0.082078</td>\n",
              "      <td>-0.213136</td>\n",
              "      <td>0.864603</td>\n",
              "      <td>-0.272784</td>\n",
              "      <td>-0.567033</td>\n",
              "      <td>0.769823</td>\n",
              "      <td>-0.008326</td>\n",
              "    </tr>\n",
              "    <tr>\n",
              "      <th>1794</th>\n",
              "      <td>-1.022596</td>\n",
              "      <td>0.147911</td>\n",
              "      <td>2.469974</td>\n",
              "      <td>0.620307</td>\n",
              "      <td>-0.972043</td>\n",
              "      <td>-0.007377</td>\n",
              "      <td>-0.381115</td>\n",
              "      <td>-0.529064</td>\n",
              "      <td>-2.054709</td>\n",
              "      <td>-2.036838</td>\n",
              "      <td>-0.679554</td>\n",
              "      <td>-0.396803</td>\n",
              "      <td>-0.409313</td>\n",
              "      <td>0.257614</td>\n",
              "      <td>-0.334953</td>\n",
              "      <td>-1.162071</td>\n",
              "      <td>1.124031</td>\n",
              "      <td>-0.669245</td>\n",
              "      <td>-1.612100</td>\n",
              "      <td>0.182303</td>\n",
              "      <td>0.166667</td>\n",
              "      <td>0.237439</td>\n",
              "      <td>0.041549</td>\n",
              "      <td>0.235181</td>\n",
              "      <td>0.261485</td>\n",
              "      <td>1.340361</td>\n",
              "      <td>0.054225</td>\n",
              "      <td>-0.352066</td>\n",
              "      <td>-0.521824</td>\n",
              "      <td>-0.271170</td>\n",
              "    </tr>\n",
              "    <tr>\n",
              "      <th>1795</th>\n",
              "      <td>-1.076055</td>\n",
              "      <td>0.380906</td>\n",
              "      <td>-2.455487</td>\n",
              "      <td>1.312013</td>\n",
              "      <td>0.253533</td>\n",
              "      <td>-0.638322</td>\n",
              "      <td>-1.034470</td>\n",
              "      <td>-0.763325</td>\n",
              "      <td>-1.077474</td>\n",
              "      <td>-0.334527</td>\n",
              "      <td>-0.980131</td>\n",
              "      <td>-0.606451</td>\n",
              "      <td>0.169573</td>\n",
              "      <td>-0.759176</td>\n",
              "      <td>-0.014572</td>\n",
              "      <td>-0.158465</td>\n",
              "      <td>1.686638</td>\n",
              "      <td>-0.811822</td>\n",
              "      <td>-1.769181</td>\n",
              "      <td>0.774718</td>\n",
              "      <td>-0.135668</td>\n",
              "      <td>0.433929</td>\n",
              "      <td>1.111662</td>\n",
              "      <td>0.312411</td>\n",
              "      <td>0.940159</td>\n",
              "      <td>-1.152000</td>\n",
              "      <td>0.662983</td>\n",
              "      <td>0.979041</td>\n",
              "      <td>-0.293561</td>\n",
              "      <td>-0.711736</td>\n",
              "    </tr>\n",
              "    <tr>\n",
              "      <th>1796</th>\n",
              "      <td>1.257702</td>\n",
              "      <td>2.227591</td>\n",
              "      <td>0.283628</td>\n",
              "      <td>0.127073</td>\n",
              "      <td>-1.570173</td>\n",
              "      <td>2.342953</td>\n",
              "      <td>0.383075</td>\n",
              "      <td>1.200566</td>\n",
              "      <td>-0.816831</td>\n",
              "      <td>-1.825428</td>\n",
              "      <td>-0.085511</td>\n",
              "      <td>-0.549436</td>\n",
              "      <td>0.099634</td>\n",
              "      <td>0.757965</td>\n",
              "      <td>-1.825514</td>\n",
              "      <td>-0.248320</td>\n",
              "      <td>0.643783</td>\n",
              "      <td>-1.944213</td>\n",
              "      <td>-2.438979</td>\n",
              "      <td>-1.132762</td>\n",
              "      <td>-1.114587</td>\n",
              "      <td>0.291210</td>\n",
              "      <td>-1.073341</td>\n",
              "      <td>-0.274700</td>\n",
              "      <td>0.909278</td>\n",
              "      <td>0.450495</td>\n",
              "      <td>0.322974</td>\n",
              "      <td>0.916469</td>\n",
              "      <td>-0.629528</td>\n",
              "      <td>0.327032</td>\n",
              "    </tr>\n",
              "  </tbody>\n",
              "</table>\n",
              "<p>1797 rows × 30 columns</p>\n",
              "</div>"
            ],
            "text/plain": [
              "            0         1         2   ...        27        28        29\n",
              "0    -1.914214  0.954502 -3.946035  ...  0.157022 -0.404918 -0.324594\n",
              "1    -0.588980 -0.924636  3.924755  ... -0.742482  0.855856 -0.277084\n",
              "2    -1.302039  0.317189  3.023333  ...  0.205099  0.362138  1.181186\n",
              "3     3.020770  0.868772 -0.801744  ... -0.403244 -0.291934 -1.244539\n",
              "4    -4.528949  1.093480  0.973121  ...  0.746668 -1.076306  0.297665\n",
              "...        ...       ...       ...  ...       ...       ...       ...\n",
              "1792 -0.104331 -0.255024 -3.765861  ...  0.058615 -0.979933 -0.122796\n",
              "1793 -2.423234  1.429611 -3.045245  ... -0.567033  0.769823 -0.008326\n",
              "1794 -1.022596  0.147911  2.469974  ... -0.352066 -0.521824 -0.271170\n",
              "1795 -1.076055  0.380906 -2.455487  ...  0.979041 -0.293561 -0.711736\n",
              "1796  1.257702  2.227591  0.283628  ...  0.916469 -0.629528  0.327032\n",
              "\n",
              "[1797 rows x 30 columns]"
            ]
          },
          "metadata": {},
          "execution_count": 26
        }
      ]
    },
    {
      "cell_type": "code",
      "metadata": {
        "colab": {
          "base_uri": "https://localhost:8080/",
          "height": 1000
        },
        "id": "9-gXZXeoGWKq",
        "outputId": "3e8e4d51-e209-4249-f335-f784a5cada77"
      },
      "source": [
        "import seaborn as sns \n",
        "import matplotlib.pyplot as plt\n",
        "plt.figure(figsize=(20,20))\n",
        "sns.heatmap(projected.corr(),linewidths=.5)\n",
        "plt.show()"
      ],
      "execution_count": null,
      "outputs": [
        {
          "output_type": "display_data",
          "data": {
            "image/png": "[encoded data removed]",
            "text/plain": [
              "<Figure size 1440x1440 with 2 Axes>"
            ]
          },
          "metadata": {
            "needs_background": "light"
          }
        }
      ]
    },
    {
      "cell_type": "markdown",
      "metadata": {
        "id": "d3ae5u0V-Yg-"
      },
      "source": [
        "# **ASSIGNMENT 5 LINEAR REGRESSION**"
      ]
    },
    {
      "cell_type": "markdown",
      "metadata": {
        "id": "DqccTXkNgq7x"
      },
      "source": [
        "## PART 1 -SIMPLE LINEAR REGRESSION"
      ]
    },
    {
      "cell_type": "markdown",
      "metadata": {
        "id": "IQb3bbeVQ0Z3"
      },
      "source": [
        "Linear regression is a statistical method for modeling relationships between a dependent variable with a given set of independent variables.\n",
        "we try to find a linear function that predicts response value(y) as a function of feature vector or independent variable (x)."
      ]
    },
    {
      "cell_type": "markdown",
      "metadata": {
        "id": "yUa_ywjlHYMD"
      },
      "source": [
        "#Q1: Implement the Simple Linear Regression for the data given below and predict the house price for a house with plot size 3000, 2000 and 1500 feet:\n"
      ]
    },
    {
      "cell_type": "code",
      "metadata": {
        "colab": {
          "base_uri": "https://localhost:8080/"
        },
        "id": "zYgLi0QyHjo-",
        "outputId": "761c7a58-5b7d-4f91-a973-849335991b2e"
      },
      "source": [
        "from google.colab import drive\n",
        "drive.mount('/content/gdrive')"
      ],
      "execution_count": null,
      "outputs": [
        {
          "output_type": "stream",
          "name": "stdout",
          "text": [
            "Mounted at /content/gdrive\n"
          ]
        }
      ]
    },
    {
      "cell_type": "code",
      "metadata": {
        "id": "Wsi67aZTAMWR"
      },
      "source": [
        "import pandas as pd\n",
        "import numpy as np\n",
        "import matplotlib.pyplot as plt\n",
        "from sklearn import linear_model"
      ],
      "execution_count": null,
      "outputs": []
    },
    {
      "cell_type": "code",
      "metadata": {
        "id": "_LhH2u3UAMLE"
      },
      "source": [
        "df=pd.read_csv('/content/gdrive/MyDrive/STUDY  MATERIAL(MEENAL AND MRIDUL)/3rd Year/5th SEMESTER/MACHINE LEARNING/Solution/MLassginment5Q1.csv')"
      ],
      "execution_count": null,
      "outputs": []
    },
    {
      "cell_type": "code",
      "metadata": {
        "colab": {
          "base_uri": "https://localhost:8080/",
          "height": 282
        },
        "id": "IluC43MRAL6Z",
        "outputId": "765398df-1692-4cd4-a181-d289bd7e9cd4"
      },
      "source": [
        "plt.scatter(df['House Price'],df['Square Feet'])"
      ],
      "execution_count": null,
      "outputs": [
        {
          "output_type": "execute_result",
          "data": {
            "text/plain": [
              "<matplotlib.collections.PathCollection at 0x7f58f82eaf10>"
            ]
          },
          "metadata": {},
          "execution_count": 4
        },
        {
          "output_type": "display_data",
          "data": {
            "image/png": "[encoded data removed]",
            "text/plain": [
              "<Figure size 432x288 with 1 Axes>"
            ]
          },
          "metadata": {
            "needs_background": "light"
          }
        }
      ]
    },
    {
      "cell_type": "code",
      "metadata": {
        "colab": {
          "base_uri": "https://localhost:8080/",
          "height": 204
        },
        "id": "2WEoTONdHwHg",
        "outputId": "9375db4c-01e1-4747-982b-b65691956dee"
      },
      "source": [
        "import pandas as pd\n",
        "slr=pd.read_csv('/content/gdrive/MyDrive/STUDY  MATERIAL(MEENAL AND MRIDUL)/3rd Year/5th SEMESTER/MACHINE LEARNING/Solution/MLassginment5Q1.csv')\n",
        "slr.head()"
      ],
      "execution_count": null,
      "outputs": [
        {
          "output_type": "execute_result",
          "data": {
            "text/html": [
              "<div>\n",
              "<style scoped>\n",
              "    .dataframe tbody tr th:only-of-type {\n",
              "        vertical-align: middle;\n",
              "    }\n",
              "\n",
              "    .dataframe tbody tr th {\n",
              "        vertical-align: top;\n",
              "    }\n",
              "\n",
              "    .dataframe thead th {\n",
              "        text-align: right;\n",
              "    }\n",
              "</style>\n",
              "<table border=\"1\" class=\"dataframe\">\n",
              "  <thead>\n",
              "    <tr style=\"text-align: right;\">\n",
              "      <th></th>\n",
              "      <th>House Price</th>\n",
              "      <th>Square Feet</th>\n",
              "    </tr>\n",
              "  </thead>\n",
              "  <tbody>\n",
              "    <tr>\n",
              "      <th>0</th>\n",
              "      <td>245</td>\n",
              "      <td>1400</td>\n",
              "    </tr>\n",
              "    <tr>\n",
              "      <th>1</th>\n",
              "      <td>312</td>\n",
              "      <td>1600</td>\n",
              "    </tr>\n",
              "    <tr>\n",
              "      <th>2</th>\n",
              "      <td>279</td>\n",
              "      <td>1700</td>\n",
              "    </tr>\n",
              "    <tr>\n",
              "      <th>3</th>\n",
              "      <td>308</td>\n",
              "      <td>1875</td>\n",
              "    </tr>\n",
              "    <tr>\n",
              "      <th>4</th>\n",
              "      <td>199</td>\n",
              "      <td>1100</td>\n",
              "    </tr>\n",
              "  </tbody>\n",
              "</table>\n",
              "</div>"
            ],
            "text/plain": [
              "   House Price  Square Feet\n",
              "0          245         1400\n",
              "1          312         1600\n",
              "2          279         1700\n",
              "3          308         1875\n",
              "4          199         1100"
            ]
          },
          "metadata": {},
          "execution_count": 5
        }
      ]
    },
    {
      "cell_type": "code",
      "metadata": {
        "id": "6EWOBC87LHZ6"
      },
      "source": [
        "#we divide our dataset into X and y,\n",
        "# where X is the independent variable(square feet) and y is the dependent variable.(house price)\n",
        "y=slr.iloc[:,0].values\n",
        "X=slr.iloc[:,1].values\n"
      ],
      "execution_count": null,
      "outputs": []
    },
    {
      "cell_type": "code",
      "metadata": {
        "colab": {
          "base_uri": "https://localhost:8080/"
        },
        "id": "QfWRJAMaJ4LB",
        "outputId": "a7887fae-7156-413b-f6d2-19e61516553a"
      },
      "source": [
        "import pandas as pd\n",
        "import matplotlib.pyplot as plt\n",
        "\n",
        "from sklearn.model_selection import train_test_split\n",
        "X_train,X_test,y_train,y_test=train_test_split(X,y,test_size=0.2,random_state=1)\n",
        "print(X_train)\n",
        "print(X_test)\n",
        "print(y_train)\n",
        "print(y_test)"
      ],
      "execution_count": null,
      "outputs": [
        {
          "output_type": "stream",
          "name": "stdout",
          "text": [
            "[2350 1100 1400 1875 1600 2450 1425 1550]\n",
            "[1700 1700]\n",
            "[405 199 245 308 312 324 319 219]\n",
            "[279 255]\n"
          ]
        }
      ]
    },
    {
      "cell_type": "code",
      "metadata": {
        "id": "Mq77nPFuZySR"
      },
      "source": [
        "#reshaping the 1d array to 2d array\n",
        "X_train= X_train.reshape(-1, 1)\n",
        "y_train= y_train.reshape(-1, 1)\n",
        "X_test = X_test.reshape(-1, 1)\n",
        "y_test = y_test.reshape(-1, 1)"
      ],
      "execution_count": null,
      "outputs": []
    },
    {
      "cell_type": "code",
      "metadata": {
        "colab": {
          "base_uri": "https://localhost:8080/"
        },
        "id": "k2LWFjdSab1N",
        "outputId": "268a6354-216a-424d-a9cf-cf9cb5a587c3"
      },
      "source": [
        "#performing linear regression\n",
        "from sklearn.linear_model import LinearRegression\n",
        "regressor = LinearRegression()\n",
        "regressor.fit(X_train, y_train)"
      ],
      "execution_count": null,
      "outputs": [
        {
          "output_type": "execute_result",
          "data": {
            "text/plain": [
              "LinearRegression(copy_X=True, fit_intercept=True, n_jobs=None, normalize=False)"
            ]
          },
          "metadata": {},
          "execution_count": 10
        }
      ]
    },
    {
      "cell_type": "code",
      "metadata": {
        "colab": {
          "base_uri": "https://localhost:8080/"
        },
        "id": "RDUsE7lQakWJ",
        "outputId": "d29a152a-d74d-4d2d-ed97-9b2c9c1f449a"
      },
      "source": [
        "#predicting the values for X_test\n",
        "y_pred = regressor.predict(X_test)\n",
        "y_pred"
      ],
      "execution_count": null,
      "outputs": [
        {
          "output_type": "execute_result",
          "data": {
            "text/plain": [
              "array([[289.32484583],\n",
              "       [289.32484583]])"
            ]
          },
          "metadata": {},
          "execution_count": 15
        }
      ]
    },
    {
      "cell_type": "code",
      "metadata": {
        "colab": {
          "base_uri": "https://localhost:8080/"
        },
        "id": "CsABU9svg9az",
        "outputId": "223fa3c6-05a6-4d5a-f5c3-89767ec48dc4"
      },
      "source": [
        "#trying on new values of x\n",
        "import numpy as np\n",
        "x_new=[3000,2000,15000]\n",
        "x_new = np.array(x_new).reshape(-1, 1)\n",
        "y_new=y_pred = regressor.predict(x_new)\n",
        "y_new"
      ],
      "execution_count": null,
      "outputs": [
        {
          "output_type": "execute_result",
          "data": {
            "text/plain": [
              "array([[ 431.46886811],\n",
              "       [ 322.12731251],\n",
              "       [1743.56753531]])"
            ]
          },
          "metadata": {},
          "execution_count": 16
        }
      ]
    },
    {
      "cell_type": "markdown",
      "metadata": {
        "id": "LRNUIEylbGB8"
      },
      "source": [
        " Plotting the results"
      ]
    },
    {
      "cell_type": "code",
      "metadata": {
        "colab": {
          "base_uri": "https://localhost:8080/",
          "height": 295
        },
        "id": "l8l4H8MtbHM7",
        "outputId": "35eb369f-0dc6-48eb-8ae9-44b3d624ef9f"
      },
      "source": [
        "import matplotlib.pyplot as plt\n",
        "plt.scatter(X_train,y_train, color = 'violet')\n",
        "plt.plot(X_train, regressor.predict(X_train), color = 'darkslategray')\n",
        "plt.title('Housing price vs SquareFeet (Training set)')\n",
        "plt.xlabel(' SquareFeet  ')\n",
        "plt.ylabel('Housing price')\n",
        "plt.show()"
      ],
      "execution_count": null,
      "outputs": [
        {
          "output_type": "display_data",
          "data": {
            "image/png": "[encoded data removed]",
            "text/plain": [
              "<Figure size 432x288 with 1 Axes>"
            ]
          },
          "metadata": {
            "needs_background": "light"
          }
        }
      ]
    },
    {
      "cell_type": "code",
      "metadata": {
        "colab": {
          "base_uri": "https://localhost:8080/",
          "height": 295
        },
        "id": "oJeMqWhGbPgz",
        "outputId": "58108a83-52c2-40b4-e06d-8f8a7bbdd4a6"
      },
      "source": [
        "plt.scatter(X_test, y_test, color = 'deeppink')\n",
        "plt.plot(X_train, regressor.predict(X_train), color = 'darkblue')\n",
        "plt.title('Housing price vs SquareFeet (Test set)')\n",
        "plt.xlabel(' SquareFeet  ')\n",
        "plt.ylabel('Housing price')\n",
        "plt.show()"
      ],
      "execution_count": null,
      "outputs": [
        {
          "output_type": "display_data",
          "data": {
            "image/png": "[encoded data removed]",
            "text/plain": [
              "<Figure size 432x288 with 1 Axes>"
            ]
          },
          "metadata": {
            "needs_background": "light"
          }
        }
      ]
    },
    {
      "cell_type": "markdown",
      "metadata": {
        "id": "WBlWiVzFbSav"
      },
      "source": [
        "## PART II - Multiple linear Regression"
      ]
    },
    {
      "cell_type": "markdown",
      "metadata": {
        "id": "l5FFC_zBxvbV"
      },
      "source": [
        "relationship b/w 2 or more independent(feature) and 1 dependent."
      ]
    },
    {
      "cell_type": "code",
      "metadata": {
        "id": "liHzO5KKbVuo",
        "colab": {
          "base_uri": "https://localhost:8080/",
          "height": 494
        },
        "outputId": "3dceeeb1-5cb5-4379-ca03-280b4082439b"
      },
      "source": [
        "#importimg the dataset\n",
        "import numpy as np\n",
        "import pandas as pd\n",
        "dataset = pd.read_csv('/content/gdrive/MyDrive/STUDY  MATERIAL(MEENAL AND MRIDUL)/3rd Year/5th SEMESTER/MACHINE LEARNING/Solution/ml5ii.csv')"
      ],
      "execution_count": null,
      "outputs": [
        {
          "output_type": "error",
          "ename": "FileNotFoundError",
          "evalue": "ignored",
          "traceback": [
            "\u001b[0;31m---------------------------------------------------------------------------\u001b[0m",
            "\u001b[0;31mFileNotFoundError\u001b[0m                         Traceback (most recent call last)",
            "\u001b[0;32m<ipython-input-7-869462630e54>\u001b[0m in \u001b[0;36m<module>\u001b[0;34m()\u001b[0m\n\u001b[1;32m      2\u001b[0m \u001b[0;32mimport\u001b[0m \u001b[0mnumpy\u001b[0m \u001b[0;32mas\u001b[0m \u001b[0mnp\u001b[0m\u001b[0;34m\u001b[0m\u001b[0;34m\u001b[0m\u001b[0m\n\u001b[1;32m      3\u001b[0m \u001b[0;32mimport\u001b[0m \u001b[0mpandas\u001b[0m \u001b[0;32mas\u001b[0m \u001b[0mpd\u001b[0m\u001b[0;34m\u001b[0m\u001b[0;34m\u001b[0m\u001b[0m\n\u001b[0;32m----> 4\u001b[0;31m \u001b[0mdataset\u001b[0m \u001b[0;34m=\u001b[0m \u001b[0mpd\u001b[0m\u001b[0;34m.\u001b[0m\u001b[0mread_csv\u001b[0m\u001b[0;34m(\u001b[0m\u001b[0;34m'/content/gdrive/MyDrive/STUDY  MATERIAL(MEENAL AND MRIDUL)/3rd Year/5th SEMESTER/MACHINE LEARNING/Solution/ml5ii.csv'\u001b[0m\u001b[0;34m)\u001b[0m\u001b[0;34m\u001b[0m\u001b[0;34m\u001b[0m\u001b[0m\n\u001b[0m",
            "\u001b[0;32m/usr/local/lib/python3.7/dist-packages/pandas/io/parsers.py\u001b[0m in \u001b[0;36mread_csv\u001b[0;34m(filepath_or_buffer, sep, delimiter, header, names, index_col, usecols, squeeze, prefix, mangle_dupe_cols, dtype, engine, converters, true_values, false_values, skipinitialspace, skiprows, skipfooter, nrows, na_values, keep_default_na, na_filter, verbose, skip_blank_lines, parse_dates, infer_datetime_format, keep_date_col, date_parser, dayfirst, cache_dates, iterator, chunksize, compression, thousands, decimal, lineterminator, quotechar, quoting, doublequote, escapechar, comment, encoding, dialect, error_bad_lines, warn_bad_lines, delim_whitespace, low_memory, memory_map, float_precision)\u001b[0m\n\u001b[1;32m    686\u001b[0m     )\n\u001b[1;32m    687\u001b[0m \u001b[0;34m\u001b[0m\u001b[0m\n\u001b[0;32m--> 688\u001b[0;31m     \u001b[0;32mreturn\u001b[0m \u001b[0m_read\u001b[0m\u001b[0;34m(\u001b[0m\u001b[0mfilepath_or_buffer\u001b[0m\u001b[0;34m,\u001b[0m \u001b[0mkwds\u001b[0m\u001b[0;34m)\u001b[0m\u001b[0;34m\u001b[0m\u001b[0;34m\u001b[0m\u001b[0m\n\u001b[0m\u001b[1;32m    689\u001b[0m \u001b[0;34m\u001b[0m\u001b[0m\n\u001b[1;32m    690\u001b[0m \u001b[0;34m\u001b[0m\u001b[0m\n",
            "\u001b[0;32m/usr/local/lib/python3.7/dist-packages/pandas/io/parsers.py\u001b[0m in \u001b[0;36m_read\u001b[0;34m(filepath_or_buffer, kwds)\u001b[0m\n\u001b[1;32m    452\u001b[0m \u001b[0;34m\u001b[0m\u001b[0m\n\u001b[1;32m    453\u001b[0m     \u001b[0;31m# Create the parser.\u001b[0m\u001b[0;34m\u001b[0m\u001b[0;34m\u001b[0m\u001b[0;34m\u001b[0m\u001b[0m\n\u001b[0;32m--> 454\u001b[0;31m     \u001b[0mparser\u001b[0m \u001b[0;34m=\u001b[0m \u001b[0mTextFileReader\u001b[0m\u001b[0;34m(\u001b[0m\u001b[0mfp_or_buf\u001b[0m\u001b[0;34m,\u001b[0m \u001b[0;34m**\u001b[0m\u001b[0mkwds\u001b[0m\u001b[0;34m)\u001b[0m\u001b[0;34m\u001b[0m\u001b[0;34m\u001b[0m\u001b[0m\n\u001b[0m\u001b[1;32m    455\u001b[0m \u001b[0;34m\u001b[0m\u001b[0m\n\u001b[1;32m    456\u001b[0m     \u001b[0;32mif\u001b[0m \u001b[0mchunksize\u001b[0m \u001b[0;32mor\u001b[0m \u001b[0miterator\u001b[0m\u001b[0;34m:\u001b[0m\u001b[0;34m\u001b[0m\u001b[0;34m\u001b[0m\u001b[0m\n",
            "\u001b[0;32m/usr/local/lib/python3.7/dist-packages/pandas/io/parsers.py\u001b[0m in \u001b[0;36m__init__\u001b[0;34m(self, f, engine, **kwds)\u001b[0m\n\u001b[1;32m    946\u001b[0m             \u001b[0mself\u001b[0m\u001b[0;34m.\u001b[0m\u001b[0moptions\u001b[0m\u001b[0;34m[\u001b[0m\u001b[0;34m\"has_index_names\"\u001b[0m\u001b[0;34m]\u001b[0m \u001b[0;34m=\u001b[0m \u001b[0mkwds\u001b[0m\u001b[0;34m[\u001b[0m\u001b[0;34m\"has_index_names\"\u001b[0m\u001b[0;34m]\u001b[0m\u001b[0;34m\u001b[0m\u001b[0;34m\u001b[0m\u001b[0m\n\u001b[1;32m    947\u001b[0m \u001b[0;34m\u001b[0m\u001b[0m\n\u001b[0;32m--> 948\u001b[0;31m         \u001b[0mself\u001b[0m\u001b[0;34m.\u001b[0m\u001b[0m_make_engine\u001b[0m\u001b[0;34m(\u001b[0m\u001b[0mself\u001b[0m\u001b[0;34m.\u001b[0m\u001b[0mengine\u001b[0m\u001b[0;34m)\u001b[0m\u001b[0;34m\u001b[0m\u001b[0;34m\u001b[0m\u001b[0m\n\u001b[0m\u001b[1;32m    949\u001b[0m \u001b[0;34m\u001b[0m\u001b[0m\n\u001b[1;32m    950\u001b[0m     \u001b[0;32mdef\u001b[0m \u001b[0mclose\u001b[0m\u001b[0;34m(\u001b[0m\u001b[0mself\u001b[0m\u001b[0;34m)\u001b[0m\u001b[0;34m:\u001b[0m\u001b[0;34m\u001b[0m\u001b[0;34m\u001b[0m\u001b[0m\n",
            "\u001b[0;32m/usr/local/lib/python3.7/dist-packages/pandas/io/parsers.py\u001b[0m in \u001b[0;36m_make_engine\u001b[0;34m(self, engine)\u001b[0m\n\u001b[1;32m   1178\u001b[0m     \u001b[0;32mdef\u001b[0m \u001b[0m_make_engine\u001b[0m\u001b[0;34m(\u001b[0m\u001b[0mself\u001b[0m\u001b[0;34m,\u001b[0m \u001b[0mengine\u001b[0m\u001b[0;34m=\u001b[0m\u001b[0;34m\"c\"\u001b[0m\u001b[0;34m)\u001b[0m\u001b[0;34m:\u001b[0m\u001b[0;34m\u001b[0m\u001b[0;34m\u001b[0m\u001b[0m\n\u001b[1;32m   1179\u001b[0m         \u001b[0;32mif\u001b[0m \u001b[0mengine\u001b[0m \u001b[0;34m==\u001b[0m \u001b[0;34m\"c\"\u001b[0m\u001b[0;34m:\u001b[0m\u001b[0;34m\u001b[0m\u001b[0;34m\u001b[0m\u001b[0m\n\u001b[0;32m-> 1180\u001b[0;31m             \u001b[0mself\u001b[0m\u001b[0;34m.\u001b[0m\u001b[0m_engine\u001b[0m \u001b[0;34m=\u001b[0m \u001b[0mCParserWrapper\u001b[0m\u001b[0;34m(\u001b[0m\u001b[0mself\u001b[0m\u001b[0;34m.\u001b[0m\u001b[0mf\u001b[0m\u001b[0;34m,\u001b[0m \u001b[0;34m**\u001b[0m\u001b[0mself\u001b[0m\u001b[0;34m.\u001b[0m\u001b[0moptions\u001b[0m\u001b[0;34m)\u001b[0m\u001b[0;34m\u001b[0m\u001b[0;34m\u001b[0m\u001b[0m\n\u001b[0m\u001b[1;32m   1181\u001b[0m         \u001b[0;32melse\u001b[0m\u001b[0;34m:\u001b[0m\u001b[0;34m\u001b[0m\u001b[0;34m\u001b[0m\u001b[0m\n\u001b[1;32m   1182\u001b[0m             \u001b[0;32mif\u001b[0m \u001b[0mengine\u001b[0m \u001b[0;34m==\u001b[0m \u001b[0;34m\"python\"\u001b[0m\u001b[0;34m:\u001b[0m\u001b[0;34m\u001b[0m\u001b[0;34m\u001b[0m\u001b[0m\n",
            "\u001b[0;32m/usr/local/lib/python3.7/dist-packages/pandas/io/parsers.py\u001b[0m in \u001b[0;36m__init__\u001b[0;34m(self, src, **kwds)\u001b[0m\n\u001b[1;32m   2008\u001b[0m         \u001b[0mkwds\u001b[0m\u001b[0;34m[\u001b[0m\u001b[0;34m\"usecols\"\u001b[0m\u001b[0;34m]\u001b[0m \u001b[0;34m=\u001b[0m \u001b[0mself\u001b[0m\u001b[0;34m.\u001b[0m\u001b[0musecols\u001b[0m\u001b[0;34m\u001b[0m\u001b[0;34m\u001b[0m\u001b[0m\n\u001b[1;32m   2009\u001b[0m \u001b[0;34m\u001b[0m\u001b[0m\n\u001b[0;32m-> 2010\u001b[0;31m         \u001b[0mself\u001b[0m\u001b[0;34m.\u001b[0m\u001b[0m_reader\u001b[0m \u001b[0;34m=\u001b[0m \u001b[0mparsers\u001b[0m\u001b[0;34m.\u001b[0m\u001b[0mTextReader\u001b[0m\u001b[0;34m(\u001b[0m\u001b[0msrc\u001b[0m\u001b[0;34m,\u001b[0m \u001b[0;34m**\u001b[0m\u001b[0mkwds\u001b[0m\u001b[0;34m)\u001b[0m\u001b[0;34m\u001b[0m\u001b[0;34m\u001b[0m\u001b[0m\n\u001b[0m\u001b[1;32m   2011\u001b[0m         \u001b[0mself\u001b[0m\u001b[0;34m.\u001b[0m\u001b[0munnamed_cols\u001b[0m \u001b[0;34m=\u001b[0m \u001b[0mself\u001b[0m\u001b[0;34m.\u001b[0m\u001b[0m_reader\u001b[0m\u001b[0;34m.\u001b[0m\u001b[0munnamed_cols\u001b[0m\u001b[0;34m\u001b[0m\u001b[0;34m\u001b[0m\u001b[0m\n\u001b[1;32m   2012\u001b[0m \u001b[0;34m\u001b[0m\u001b[0m\n",
            "\u001b[0;32mpandas/_libs/parsers.pyx\u001b[0m in \u001b[0;36mpandas._libs.parsers.TextReader.__cinit__\u001b[0;34m()\u001b[0m\n",
            "\u001b[0;32mpandas/_libs/parsers.pyx\u001b[0m in \u001b[0;36mpandas._libs.parsers.TextReader._setup_parser_source\u001b[0;34m()\u001b[0m\n",
            "\u001b[0;31mFileNotFoundError\u001b[0m: [Errno 2] No such file or directory: '/content/gdrive/MyDrive/STUDY  MATERIAL(MEENAL AND MRIDUL)/3rd Year/5th SEMESTER/MACHINE LEARNING/Solution/ml5ii.csv'"
          ]
        }
      ]
    },
    {
      "cell_type": "code",
      "metadata": {
        "id": "Dmc1ltjlcjhx",
        "colab": {
          "base_uri": "https://localhost:8080/",
          "height": 198
        },
        "outputId": "074d586f-7589-4fcb-e277-e71ee2591a06"
      },
      "source": [
        "#seprating the data set into two arrays\n",
        "x = dataset.iloc[:, 2:4].values\n",
        "y = dataset.iloc[:, -1].values"
      ],
      "execution_count": null,
      "outputs": [
        {
          "output_type": "error",
          "ename": "NameError",
          "evalue": "ignored",
          "traceback": [
            "\u001b[0;31m---------------------------------------------------------------------------\u001b[0m",
            "\u001b[0;31mNameError\u001b[0m                                 Traceback (most recent call last)",
            "\u001b[0;32m<ipython-input-8-474b63065df1>\u001b[0m in \u001b[0;36m<module>\u001b[0;34m()\u001b[0m\n\u001b[1;32m      1\u001b[0m \u001b[0;31m#seprating the data set into two arrays\u001b[0m\u001b[0;34m\u001b[0m\u001b[0;34m\u001b[0m\u001b[0;34m\u001b[0m\u001b[0m\n\u001b[0;32m----> 2\u001b[0;31m \u001b[0mx\u001b[0m \u001b[0;34m=\u001b[0m \u001b[0mdataset\u001b[0m\u001b[0;34m.\u001b[0m\u001b[0miloc\u001b[0m\u001b[0;34m[\u001b[0m\u001b[0;34m:\u001b[0m\u001b[0;34m,\u001b[0m \u001b[0;36m2\u001b[0m\u001b[0;34m:\u001b[0m\u001b[0;36m4\u001b[0m\u001b[0;34m]\u001b[0m\u001b[0;34m.\u001b[0m\u001b[0mvalues\u001b[0m\u001b[0;34m\u001b[0m\u001b[0;34m\u001b[0m\u001b[0m\n\u001b[0m\u001b[1;32m      3\u001b[0m \u001b[0my\u001b[0m \u001b[0;34m=\u001b[0m \u001b[0mdataset\u001b[0m\u001b[0;34m.\u001b[0m\u001b[0miloc\u001b[0m\u001b[0;34m[\u001b[0m\u001b[0;34m:\u001b[0m\u001b[0;34m,\u001b[0m \u001b[0;34m-\u001b[0m\u001b[0;36m1\u001b[0m\u001b[0;34m]\u001b[0m\u001b[0;34m.\u001b[0m\u001b[0mvalues\u001b[0m\u001b[0;34m\u001b[0m\u001b[0;34m\u001b[0m\u001b[0m\n",
            "\u001b[0;31mNameError\u001b[0m: name 'dataset' is not defined"
          ]
        }
      ]
    },
    {
      "cell_type": "code",
      "metadata": {
        "id": "5sCuybaTcmFr"
      },
      "source": [
        "#splitting the x and y arrays into test and train set and displaying the result\n",
        "from sklearn.model_selection import train_test_split\n",
        "x_train, x_test, y_train, y_test = train_test_split(x, y, test_size = 0.2, random_state = 1)"
      ],
      "execution_count": null,
      "outputs": []
    },
    {
      "cell_type": "code",
      "metadata": {
        "id": "CpX3g9vOcpcA"
      },
      "source": [
        "\n"
      ],
      "execution_count": null,
      "outputs": []
    },
    {
      "cell_type": "code",
      "metadata": {
        "id": "9jEaHwJ8cuYc"
      },
      "source": [
        "#predicting the values for x_test\n",
        "y_pred = regressor.predict(x_test)"
      ],
      "execution_count": null,
      "outputs": []
    },
    {
      "cell_type": "code",
      "metadata": {
        "id": "BLZ-E4DdcwP9"
      },
      "source": [
        "y_pred"
      ],
      "execution_count": null,
      "outputs": []
    },
    {
      "cell_type": "code",
      "metadata": {
        "id": "Vs6utChecyMj"
      },
      "source": [
        "y_test"
      ],
      "execution_count": null,
      "outputs": []
    },
    {
      "cell_type": "code",
      "metadata": {
        "id": "iY3oC6FQ1Csl"
      },
      "source": [
        "from sklearn.metrics import r2_score\n",
        "r2_score(y_test, y_pred)"
      ],
      "execution_count": null,
      "outputs": []
    },
    {
      "cell_type": "markdown",
      "metadata": {
        "id": "NcAtv4Pm5jRt"
      },
      "source": [
        "**LINEAR VS LOGISTIC REGRESSION:\n",
        "Linear Regression** is a commonly used supervised Machine Learning algorithm that predicts continuous values. Linear Regression assumes that there is a linear relationship present between dependent and independent variables. \n",
        "\n",
        "**Logistic Regression** is another supervised Machine Learning algorithm that helps fundamentally in binary classification (separating discreet values) by calculating probability of each element of the set.\n"
      ]
    },
    {
      "cell_type": "markdown",
      "metadata": {
        "id": "6igqenyR1TFT"
      },
      "source": [
        "# **ASSIGNMENT 6-LOGISTIC REGRESSION**"
      ]
    },
    {
      "cell_type": "markdown",
      "metadata": {
        "id": "phVF4XJO-ojC"
      },
      "source": [
        "# Steps of Logistic Regression\n",
        "**STEP 1**:To calculate the binary separation, first, we determine the best-fitted line by following the Linear Regression steps.\n",
        "\n",
        "**STEP 2** Predicted value gets converted to probability using sigmoid function(value b/w 0 1)\n",
        "\n",
        "**STEP 3** convert the output obtained from sigmoid function to discreete values(0.5),to get binary classification."
      ]
    },
    {
      "cell_type": "markdown",
      "metadata": {
        "id": "F3TF3YQ81fTS"
      },
      "source": [
        "## Q1: Multiclass Logistic Regression Implement Multiclass Logistic Regression (step-by-step) on Iris dataset using one vs. rest strategy?"
      ]
    },
    {
      "cell_type": "code",
      "metadata": {
        "colab": {
          "base_uri": "https://localhost:8080/"
        },
        "id": "CCVLCz5t1pQh",
        "outputId": "d18c49fd-315f-4785-c65a-312f717a6f18"
      },
      "source": [
        "from google.colab import drive\n",
        "drive.mount('/content/gdrive')"
      ],
      "execution_count": null,
      "outputs": [
        {
          "output_type": "stream",
          "name": "stdout",
          "text": [
            "Mounted at /content/gdrive\n"
          ]
        }
      ]
    },
    {
      "cell_type": "code",
      "metadata": {
        "id": "WGhdpteZ1qkX"
      },
      "source": [
        "#Generic Libraries\n",
        "import numpy as np # linear algebra\n",
        "import pandas as pd # data processing, CSV file I/O (e.g. pd.read_csv)\n",
        "import os\n",
        "\n",
        "#SK Learn Libraries\n",
        "import sklearn\n",
        "from sklearn.multiclass import OneVsRestClassifier   #1vsRest Classifiers\n",
        "from sklearn.svm import SVC\n",
        "from sklearn.preprocessing import LabelEncoder\n",
        "\n",
        "from sklearn.model_selection import train_test_split\n",
        "from sklearn.preprocessing import StandardScaler\n",
        "from sklearn.metrics import accuracy_score\n",
        "import matplotlib.image as mpimg\n",
        "\n"
      ],
      "execution_count": null,
      "outputs": []
    },
    {
      "cell_type": "code",
      "metadata": {
        "colab": {
          "base_uri": "https://localhost:8080/",
          "height": 204
        },
        "id": "Y_El1_FU6hdp",
        "outputId": "6a1cb25f-5aaa-4d9f-da21-ad819eddd58e"
      },
      "source": [
        "#Load Data\n",
        "data = pd.read_csv('/content/gdrive/MyDrive/STUDY  MATERIAL(MEENAL AND MRIDUL)/3rd Year/5th SEMESTER/MACHINE LEARNING/Solution/iris.csv')\n",
        "data.head()"
      ],
      "execution_count": null,
      "outputs": [
        {
          "output_type": "execute_result",
          "data": {
            "text/html": [
              "<div>\n",
              "<style scoped>\n",
              "    .dataframe tbody tr th:only-of-type {\n",
              "        vertical-align: middle;\n",
              "    }\n",
              "\n",
              "    .dataframe tbody tr th {\n",
              "        vertical-align: top;\n",
              "    }\n",
              "\n",
              "    .dataframe thead th {\n",
              "        text-align: right;\n",
              "    }\n",
              "</style>\n",
              "<table border=\"1\" class=\"dataframe\">\n",
              "  <thead>\n",
              "    <tr style=\"text-align: right;\">\n",
              "      <th></th>\n",
              "      <th>sepal.length</th>\n",
              "      <th>sepal.width</th>\n",
              "      <th>petal.length</th>\n",
              "      <th>petal.width</th>\n",
              "      <th>variety</th>\n",
              "    </tr>\n",
              "  </thead>\n",
              "  <tbody>\n",
              "    <tr>\n",
              "      <th>0</th>\n",
              "      <td>5.1</td>\n",
              "      <td>3.5</td>\n",
              "      <td>1.4</td>\n",
              "      <td>0.2</td>\n",
              "      <td>Setosa</td>\n",
              "    </tr>\n",
              "    <tr>\n",
              "      <th>1</th>\n",
              "      <td>4.9</td>\n",
              "      <td>3.0</td>\n",
              "      <td>1.4</td>\n",
              "      <td>0.2</td>\n",
              "      <td>Setosa</td>\n",
              "    </tr>\n",
              "    <tr>\n",
              "      <th>2</th>\n",
              "      <td>4.7</td>\n",
              "      <td>3.2</td>\n",
              "      <td>1.3</td>\n",
              "      <td>0.2</td>\n",
              "      <td>Setosa</td>\n",
              "    </tr>\n",
              "    <tr>\n",
              "      <th>3</th>\n",
              "      <td>4.6</td>\n",
              "      <td>3.1</td>\n",
              "      <td>1.5</td>\n",
              "      <td>0.2</td>\n",
              "      <td>Setosa</td>\n",
              "    </tr>\n",
              "    <tr>\n",
              "      <th>4</th>\n",
              "      <td>5.0</td>\n",
              "      <td>3.6</td>\n",
              "      <td>1.4</td>\n",
              "      <td>0.2</td>\n",
              "      <td>Setosa</td>\n",
              "    </tr>\n",
              "  </tbody>\n",
              "</table>\n",
              "</div>"
            ],
            "text/plain": [
              "   sepal.length  sepal.width  petal.length  petal.width variety\n",
              "0           5.1          3.5           1.4          0.2  Setosa\n",
              "1           4.9          3.0           1.4          0.2  Setosa\n",
              "2           4.7          3.2           1.3          0.2  Setosa\n",
              "3           4.6          3.1           1.5          0.2  Setosa\n",
              "4           5.0          3.6           1.4          0.2  Setosa"
            ]
          },
          "metadata": {},
          "execution_count": 11
        }
      ]
    },
    {
      "cell_type": "code",
      "metadata": {
        "colab": {
          "base_uri": "https://localhost:8080/"
        },
        "id": "wm1pfOP58Adf",
        "outputId": "4ded8ea0-58e9-4247-c50a-9d49964472c6"
      },
      "source": [
        "#Records\n",
        "print(\"Total Records: \", data.shape[0])\n"
      ],
      "execution_count": null,
      "outputs": [
        {
          "output_type": "stream",
          "name": "stdout",
          "text": [
            "Total Records:  150\n"
          ]
        }
      ]
    },
    {
      "cell_type": "code",
      "metadata": {
        "colab": {
          "base_uri": "https://localhost:8080/"
        },
        "id": "co5yUMMq8H8R",
        "outputId": "7e4767f3-315c-48e7-a1d2-a8080741123d"
      },
      "source": [
        "#Records per Species\n",
        "data.variety.value_counts()"
      ],
      "execution_count": null,
      "outputs": [
        {
          "output_type": "execute_result",
          "data": {
            "text/plain": [
              "Versicolor    50\n",
              "Setosa        50\n",
              "Virginica     50\n",
              "Name: variety, dtype: int64"
            ]
          },
          "metadata": {},
          "execution_count": 13
        }
      ]
    },
    {
      "cell_type": "code",
      "metadata": {
        "colab": {
          "base_uri": "https://localhost:8080/",
          "height": 173
        },
        "id": "uVl8k9HE8Utv",
        "outputId": "77ee3f08-8c79-48c0-dc6e-0d22b638bc02"
      },
      "source": [
        "#Stat Summary\n",
        "data.describe().transpose()"
      ],
      "execution_count": null,
      "outputs": [
        {
          "output_type": "execute_result",
          "data": {
            "text/html": [
              "<div>\n",
              "<style scoped>\n",
              "    .dataframe tbody tr th:only-of-type {\n",
              "        vertical-align: middle;\n",
              "    }\n",
              "\n",
              "    .dataframe tbody tr th {\n",
              "        vertical-align: top;\n",
              "    }\n",
              "\n",
              "    .dataframe thead th {\n",
              "        text-align: right;\n",
              "    }\n",
              "</style>\n",
              "<table border=\"1\" class=\"dataframe\">\n",
              "  <thead>\n",
              "    <tr style=\"text-align: right;\">\n",
              "      <th></th>\n",
              "      <th>count</th>\n",
              "      <th>mean</th>\n",
              "      <th>std</th>\n",
              "      <th>min</th>\n",
              "      <th>25%</th>\n",
              "      <th>50%</th>\n",
              "      <th>75%</th>\n",
              "      <th>max</th>\n",
              "    </tr>\n",
              "  </thead>\n",
              "  <tbody>\n",
              "    <tr>\n",
              "      <th>sepal.length</th>\n",
              "      <td>150.0</td>\n",
              "      <td>5.843333</td>\n",
              "      <td>0.828066</td>\n",
              "      <td>4.3</td>\n",
              "      <td>5.1</td>\n",
              "      <td>5.80</td>\n",
              "      <td>6.4</td>\n",
              "      <td>7.9</td>\n",
              "    </tr>\n",
              "    <tr>\n",
              "      <th>sepal.width</th>\n",
              "      <td>150.0</td>\n",
              "      <td>3.057333</td>\n",
              "      <td>0.435866</td>\n",
              "      <td>2.0</td>\n",
              "      <td>2.8</td>\n",
              "      <td>3.00</td>\n",
              "      <td>3.3</td>\n",
              "      <td>4.4</td>\n",
              "    </tr>\n",
              "    <tr>\n",
              "      <th>petal.length</th>\n",
              "      <td>150.0</td>\n",
              "      <td>3.758000</td>\n",
              "      <td>1.765298</td>\n",
              "      <td>1.0</td>\n",
              "      <td>1.6</td>\n",
              "      <td>4.35</td>\n",
              "      <td>5.1</td>\n",
              "      <td>6.9</td>\n",
              "    </tr>\n",
              "    <tr>\n",
              "      <th>petal.width</th>\n",
              "      <td>150.0</td>\n",
              "      <td>1.199333</td>\n",
              "      <td>0.762238</td>\n",
              "      <td>0.1</td>\n",
              "      <td>0.3</td>\n",
              "      <td>1.30</td>\n",
              "      <td>1.8</td>\n",
              "      <td>2.5</td>\n",
              "    </tr>\n",
              "  </tbody>\n",
              "</table>\n",
              "</div>"
            ],
            "text/plain": [
              "              count      mean       std  min  25%   50%  75%  max\n",
              "sepal.length  150.0  5.843333  0.828066  4.3  5.1  5.80  6.4  7.9\n",
              "sepal.width   150.0  3.057333  0.435866  2.0  2.8  3.00  3.3  4.4\n",
              "petal.length  150.0  3.758000  1.765298  1.0  1.6  4.35  5.1  6.9\n",
              "petal.width   150.0  1.199333  0.762238  0.1  0.3  1.30  1.8  2.5"
            ]
          },
          "metadata": {},
          "execution_count": 17
        }
      ]
    },
    {
      "cell_type": "code",
      "metadata": {
        "id": "K79pppXe8Xdp",
        "colab": {
          "base_uri": "https://localhost:8080/"
        },
        "outputId": "91001af6-1ee2-4259-895f-208e45d0b34d"
      },
      "source": [
        "#Encoding variety columns (to numerical values)\n",
        "data['variety'] = data['variety'].astype('category').cat.codes\n",
        "print(data.head())"
      ],
      "execution_count": null,
      "outputs": [
        {
          "output_type": "stream",
          "name": "stdout",
          "text": [
            "   sepal.length  sepal.width  petal.length  petal.width  variety\n",
            "0           5.1          3.5           1.4          0.2        0\n",
            "1           4.9          3.0           1.4          0.2        0\n",
            "2           4.7          3.2           1.3          0.2        0\n",
            "3           4.6          3.1           1.5          0.2        0\n",
            "4           5.0          3.6           1.4          0.2        0\n"
          ]
        }
      ]
    },
    {
      "cell_type": "code",
      "metadata": {
        "id": "7k7LUx4G8iUR"
      },
      "source": [
        "#Feature & Target Selection\n",
        "features = data.select_dtypes('float').columns\n",
        "target = ['variety']\n",
        "\n",
        "# Feature& Target  Dataset\n",
        "X = data[features]\n",
        "y = data[target]"
      ],
      "execution_count": null,
      "outputs": []
    },
    {
      "cell_type": "code",
      "metadata": {
        "id": "WvYPoxsE8pKf"
      },
      "source": [
        "#Split Parameters\n",
        "test_size = 0.1\n",
        "\n",
        "#Dataset Split\n",
        "X_train, X_test, y_train, y_test = train_test_split(X, y, test_size=test_size, random_state=1) \n",
        "\n"
      ],
      "execution_count": null,
      "outputs": []
    },
    {
      "cell_type": "code",
      "metadata": {
        "id": "I_WK54TP8r_Y"
      },
      "source": [
        "# Fitting Multiclass Logistic Classification to the Training set\n",
        "from sklearn.linear_model import LogisticRegression\n",
        "model = LogisticRegression()"
      ],
      "execution_count": null,
      "outputs": []
    },
    {
      "cell_type": "code",
      "metadata": {
        "id": "Xw9xTOAn8uiP"
      },
      "source": [
        "#Define 1-vs-Rest Strategy / Classifier\n",
        "ovr = OneVsRestClassifier(model)\n",
        "\n",
        "#fit model to training data\n",
        "ovr.fit(X_train, y_train)\n",
        "\n",
        "#Predications\n",
        "ovr_pred = ovr.predict(X_test)\n",
        "\n",
        "#Adding Predictions to Test Dataset\n",
        "ovr_df = X_test.copy()\n",
        "ovr_df.insert(4,\"Actual\",y_test, True)\n",
        "ovr_df.insert(5,\"Predicted\",ovr_pred, True)"
      ],
      "execution_count": null,
      "outputs": []
    },
    {
      "cell_type": "code",
      "metadata": {
        "colab": {
          "base_uri": "https://localhost:8080/"
        },
        "id": "3OuiwXk38xU3",
        "outputId": "39bd8ca9-cd02-4e4b-e710-0cb9750df380"
      },
      "source": [
        "# Making the Confusion Matrix\n",
        "from sklearn.metrics import confusion_matrix\n",
        "cm = confusion_matrix(y_test, ovr_pred)\n",
        "print(cm)"
      ],
      "execution_count": null,
      "outputs": [
        {
          "output_type": "stream",
          "name": "stdout",
          "text": [
            "[[5 0 0]\n",
            " [0 5 1]\n",
            " [0 0 4]]\n"
          ]
        }
      ]
    },
    {
      "cell_type": "code",
      "metadata": {
        "colab": {
          "base_uri": "https://localhost:8080/"
        },
        "id": "YdLFaf3780Vm",
        "outputId": "d676f908-2ab8-451a-d11b-3ce1e96c0f3f"
      },
      "source": [
        "a = cm.shape\n",
        "corrPred = 0\n",
        "falsePred = 0\n",
        "\n",
        "for row in range(a[0]):\n",
        "    for c in range(a[1]):\n",
        "        if row == c:\n",
        "            corrPred +=cm[row,c]\n",
        "        else:\n",
        "            falsePred += cm[row,c]\n",
        "print('Correct predictions: ', corrPred)\n",
        "print('False predictions', falsePred)\n",
        "print ('Accuracy of the multiclass logistic classification is: ', corrPred/(cm.sum()))"
      ],
      "execution_count": null,
      "outputs": [
        {
          "output_type": "stream",
          "name": "stdout",
          "text": [
            "Correct predictions:  14\n",
            "False predictions 1\n",
            "Accuracy of the multiclass logistic classification is:  0.9333333333333333\n"
          ]
        }
      ]
    },
    {
      "cell_type": "markdown",
      "metadata": {
        "id": "UWpgI7tI2WBM"
      },
      "source": [
        "# **ASSIGNMENT 7-Naive Bayes Classifier and Performance Evaluation File**"
      ]
    },
    {
      "cell_type": "markdown",
      "metadata": {
        "id": "Sc2tipCIn4D0"
      },
      "source": [
        "Naïve Bayes classifier is a probabilistic classifier that uses Bayes theorem and Naïve assumption to classify test examples using the training examples.according to Bayes Theorem,\n",
        "𝑃 (𝐴 |𝐵) = [𝑃 (𝐴) 𝑃(𝐵|𝐴)] /𝑃(𝐵)\n"
      ]
    },
    {
      "cell_type": "markdown",
      "metadata": {
        "id": "F6JcJlGy2mE0"
      },
      "source": [
        "#Q1. Gaussian Naïve Bayes Classifier\n",
        "Implement Gaussian Naïve Bayes Classifier on the Iris dataset/ or any other relevant dataset from sklearn.datasets using in-built function."
      ]
    },
    {
      "cell_type": "code",
      "metadata": {
        "id": "RgrHAOmU26ET"
      },
      "source": [
        "import numpy as np\n",
        "import pandas as pd\n",
        "import sklearn\n",
        "from sklearn import datasets\n",
        "from sklearn.datasets import load_iris\n",
        "from sklearn.model_selection import train_test_split\n",
        "from sklearn.naive_bayes import GaussianNB\n",
        "#Loading the iris dataset\n",
        "X, y = datasets.load_iris(return_X_y=True)\n"
      ],
      "execution_count": null,
      "outputs": []
    },
    {
      "cell_type": "code",
      "metadata": {
        "id": "jsJCxjwN3Aac"
      },
      "source": [
        "#Splitting the data into test data and train data\n",
        "X_train, X_test, y_train, y_test = train_test_split(X, y, test_size=0.5, random_state=42)"
      ],
      "execution_count": null,
      "outputs": []
    },
    {
      "cell_type": "code",
      "metadata": {
        "id": "y3aRl1x43D0k"
      },
      "source": [
        "gnb = GaussianNB()"
      ],
      "execution_count": null,
      "outputs": []
    },
    {
      "cell_type": "code",
      "metadata": {
        "id": "N1D4wQH43G-W"
      },
      "source": [
        "y_pred = gnb.fit(X_train, y_train).predict(X_test)\n"
      ],
      "execution_count": null,
      "outputs": []
    },
    {
      "cell_type": "code",
      "metadata": {
        "colab": {
          "base_uri": "https://localhost:8080/"
        },
        "id": "0SEcTPl13Kin",
        "outputId": "34caf9d9-90d2-49f5-e8e7-7637cceb1672"
      },
      "source": [
        "print(gnb.score(X_test, y_test))"
      ],
      "execution_count": null,
      "outputs": [
        {
          "output_type": "stream",
          "name": "stdout",
          "text": [
            "0.9866666666666667\n"
          ]
        }
      ]
    },
    {
      "cell_type": "code",
      "metadata": {
        "colab": {
          "base_uri": "https://localhost:8080/"
        },
        "id": "4HUbBunk3Nmh",
        "outputId": "7b3d9dfb-95bd-48d9-fd05-da0ad97893f3"
      },
      "source": [
        "print(\"Number of mislabeled points out of a total \", X_test.shape[0],\" points: \", (y_test != y_pred).sum())"
      ],
      "execution_count": null,
      "outputs": [
        {
          "output_type": "stream",
          "name": "stdout",
          "text": [
            "Number of mislabeled points out of a total  75  points:  1\n"
          ]
        }
      ]
    },
    {
      "cell_type": "markdown",
      "metadata": {
        "id": "prRibzPc3Z1l"
      },
      "source": [
        "#Q2. Performance Evaluation of the Classifier:\n",
        "Evaluate the performance of the classifier using metrics library based on the parameters like confusion matrix, accuracy, precision, recall, F-1 Score, TPR, TNR, FPR and FNR."
      ]
    },
    {
      "cell_type": "code",
      "metadata": {
        "colab": {
          "base_uri": "https://localhost:8080/"
        },
        "id": "H3TW2nqk3b2R",
        "outputId": "8f1f1696-5341-42c3-9dc0-892ae8cad4ea"
      },
      "source": [
        "import numpy as np\n",
        "import sklearn\n",
        "from sklearn.metrics import accuracy_score\n",
        "#Calculating the accuracy score\n",
        "accuracy_score(y_test,y_pred)"
      ],
      "execution_count": null,
      "outputs": [
        {
          "output_type": "execute_result",
          "data": {
            "text/plain": [
              "0.9866666666666667"
            ]
          },
          "metadata": {},
          "execution_count": 48
        }
      ]
    },
    {
      "cell_type": "code",
      "metadata": {
        "colab": {
          "base_uri": "https://localhost:8080/"
        },
        "id": "gAduXdXV3gTs",
        "outputId": "ab616b8f-88cd-4b74-a17b-0a1ed1900b3a"
      },
      "source": [
        "#Calculating the True positive, true negative, false positive and false negative results\n",
        "TP=0\n",
        "TN=0\n",
        "FP=0\n",
        "FN=0\n",
        "y_test=np.array(y_test).reshape(-1,1)\n",
        "for i in range(len(y_pred)):\n",
        "  if (y_test[i]==1 and y_pred[i]==1):\n",
        "    TP=TP+1\n",
        "  if (y_test[i]==1 and y_pred[i]==0):\n",
        "    FN=FN+1\n",
        "  if (y_test[i]==0 and y_pred[i]==1):\n",
        "    FP=FP+1\n",
        "  if (y_test[i]==0 and y_pred[i]==0):\n",
        "    TN=TN+1\n",
        "print(TP,TN,FP,FN)"
      ],
      "execution_count": null,
      "outputs": [
        {
          "output_type": "stream",
          "name": "stdout",
          "text": [
            "23 29 0 0\n"
          ]
        }
      ]
    },
    {
      "cell_type": "code",
      "metadata": {
        "colab": {
          "base_uri": "https://localhost:8080/"
        },
        "id": "21z_9wEl3imL",
        "outputId": "4cf9b2e6-9d27-4229-cbf0-1ac0fc7f1f0a"
      },
      "source": [
        "from sklearn.metrics import confusion_matrix\n",
        "import matplotlib.pyplot as plt\n",
        "#Calculating the confusion matrix\n",
        "cm=confusion_matrix(y_test,y_pred)\n",
        "print(cm)"
      ],
      "execution_count": null,
      "outputs": [
        {
          "output_type": "stream",
          "name": "stdout",
          "text": [
            "[[29  0  0]\n",
            " [ 0 23  0]\n",
            " [ 0  1 22]]\n"
          ]
        }
      ]
    },
    {
      "cell_type": "code",
      "metadata": {
        "colab": {
          "base_uri": "https://localhost:8080/",
          "height": 263
        },
        "id": "mTUFFEk_3k_r",
        "outputId": "3ec5ca0d-49eb-46e4-f915-35f6c0e46697"
      },
      "source": [
        "#Plotting the confusion matrix\n",
        "plt.matshow(cm)\n",
        "plt.title('Confusion matrix')\n",
        "plt.colorbar()\n",
        "plt.ylabel('True label')\n",
        "plt.xlabel('Predicted label')\n",
        "plt.show()"
      ],
      "execution_count": null,
      "outputs": [
        {
          "output_type": "display_data",
          "data": {
            "image/png": "[encoded data removed]",
            "text/plain": [
              "<Figure size 288x288 with 2 Axes>"
            ]
          },
          "metadata": {
            "needs_background": "light"
          }
        }
      ]
    },
    {
      "cell_type": "code",
      "metadata": {
        "colab": {
          "base_uri": "https://localhost:8080/"
        },
        "id": "ymfgg9Br3nup",
        "outputId": "dd52c9dc-4562-4d44-c8d4-f11cf376ed8b"
      },
      "source": [
        "from sklearn import metrics\n",
        "#Calculating the precision score\n",
        "metrics.precision_score(y_test, y_pred,average='macro')"
      ],
      "execution_count": null,
      "outputs": [
        {
          "output_type": "execute_result",
          "data": {
            "text/plain": [
              "0.9861111111111112"
            ]
          },
          "metadata": {},
          "execution_count": 13
        }
      ]
    },
    {
      "cell_type": "code",
      "metadata": {
        "colab": {
          "base_uri": "https://localhost:8080/"
        },
        "id": "1ythSsQ93pxc",
        "outputId": "f09b3716-43fb-450e-f7de-7f0b73d26506"
      },
      "source": [
        "#Calculating recall\n",
        "metrics.recall_score(y_test, y_pred, average='macro')\n"
      ],
      "execution_count": null,
      "outputs": [
        {
          "output_type": "execute_result",
          "data": {
            "text/plain": [
              "0.9855072463768115"
            ]
          },
          "metadata": {},
          "execution_count": 14
        }
      ]
    },
    {
      "cell_type": "code",
      "metadata": {
        "colab": {
          "base_uri": "https://localhost:8080/"
        },
        "id": "hj1etUu23rw5",
        "outputId": "929db80f-811e-4fc3-9de9-a7724a36cb09"
      },
      "source": [
        "#Calculating F1 score\n",
        "metrics.f1_score(y_test, y_pred, average='macro')"
      ],
      "execution_count": null,
      "outputs": [
        {
          "output_type": "execute_result",
          "data": {
            "text/plain": [
              "0.9855003940110323"
            ]
          },
          "metadata": {},
          "execution_count": 15
        }
      ]
    },
    {
      "cell_type": "markdown",
      "metadata": {
        "id": "orEBU_jg3tgY"
      },
      "source": [
        "# **ASSIGNMENT 8-KNN Classifier**"
      ]
    },
    {
      "cell_type": "markdown",
      "metadata": {
        "id": "JPWc1DMfTnZY"
      },
      "source": [
        "  GridSearchCV:runs through different parameters and produces the best combination of parameters based on precision,f1 etc."
      ]
    },
    {
      "cell_type": "markdown",
      "metadata": {
        "id": "eNVER61831Ym"
      },
      "source": [
        "#Q1: (GridSearchCV for KNN)\n",
        "Explore about GridSearchCV tool in scikit-learn. This is a tool that is often used for tuning hyperparameters of machine learning models. Use this tool to find the best value of K for K-NN Classifier using any datas"
      ]
    },
    {
      "cell_type": "code",
      "metadata": {
        "id": "AzpYwSe334rX"
      },
      "source": [
        "from sklearn.datasets import load_iris\n",
        "from sklearn.neighbors import KNeighborsClassifier\n",
        "from sklearn.model_selection import GridSearchCV\n",
        "iris = load_iris()"
      ],
      "execution_count": null,
      "outputs": []
    },
    {
      "cell_type": "code",
      "metadata": {
        "id": "WYabwUAw37po"
      },
      "source": [
        "X = iris.data\n",
        "y = iris.target"
      ],
      "execution_count": null,
      "outputs": []
    },
    {
      "cell_type": "code",
      "metadata": {
        "id": "IVMWWo7N3-q-"
      },
      "source": [
        "k_range = list(range(1,100))\n",
        "weight_options = [\"uniform\", \"distance\"]\n",
        "param_grid = dict(n_neighbors = k_range, weights = weight_options)\n",
        "knn = KNeighborsClassifier()"
      ],
      "execution_count": null,
      "outputs": []
    },
    {
      "cell_type": "code",
      "metadata": {
        "colab": {
          "base_uri": "https://localhost:8080/"
        },
        "id": "wuBSY2i_4Au5",
        "outputId": "7906f216-54dc-4287-d1e2-e80da33fc3da"
      },
      "source": [
        "grid = GridSearchCV(knn, param_grid, cv = 10, scoring = 'accuracy')\n",
        "grid.fit(X,y)"
      ],
      "execution_count": null,
      "outputs": [
        {
          "output_type": "execute_result",
          "data": {
            "text/plain": [
              "GridSearchCV(cv=10, error_score=nan,\n",
              "             estimator=KNeighborsClassifier(algorithm='auto', leaf_size=30,\n",
              "                                            metric='minkowski',\n",
              "                                            metric_params=None, n_jobs=None,\n",
              "                                            n_neighbors=5, p=2,\n",
              "                                            weights='uniform'),\n",
              "             iid='deprecated', n_jobs=None,\n",
              "             param_grid={'n_neighbors': [1, 2, 3, 4, 5, 6, 7, 8, 9, 10, 11, 12,\n",
              "                                         13, 14, 15, 16, 17, 18, 19, 20, 21, 22,\n",
              "                                         23, 24, 25, 26, 27, 28, 29, 30, ...],\n",
              "                         'weights': ['uniform', 'distance']},\n",
              "             pre_dispatch='2*n_jobs', refit=True, return_train_score=False,\n",
              "             scoring='accuracy', verbose=0)"
            ]
          },
          "metadata": {},
          "execution_count": 43
        }
      ]
    },
    {
      "cell_type": "code",
      "metadata": {
        "colab": {
          "base_uri": "https://localhost:8080/"
        },
        "id": "6JTAAHhC4DQw",
        "outputId": "51a31605-ba52-47ac-c420-5a072ff3684f"
      },
      "source": [
        "print(grid.best_score_)"
      ],
      "execution_count": null,
      "outputs": [
        {
          "output_type": "stream",
          "name": "stdout",
          "text": [
            "0.9800000000000001\n"
          ]
        }
      ]
    },
    {
      "cell_type": "code",
      "metadata": {
        "colab": {
          "base_uri": "https://localhost:8080/"
        },
        "id": "bLaTCog_4GAK",
        "outputId": "92fcbe73-7e9e-436b-f221-e94561f705a4"
      },
      "source": [
        "print(grid.best_params_)\n"
      ],
      "execution_count": null,
      "outputs": [
        {
          "output_type": "stream",
          "name": "stdout",
          "text": [
            "{'n_neighbors': 13, 'weights': 'uniform'}\n"
          ]
        }
      ]
    },
    {
      "cell_type": "code",
      "metadata": {
        "colab": {
          "base_uri": "https://localhost:8080/"
        },
        "id": "xNo1y43A4H6p",
        "outputId": "497fb7b9-e0a8-4c56-d18e-cd5c5064d367"
      },
      "source": [
        "print(grid.best_estimator_)"
      ],
      "execution_count": null,
      "outputs": [
        {
          "output_type": "stream",
          "name": "stdout",
          "text": [
            "KNeighborsClassifier(algorithm='auto', leaf_size=30, metric='minkowski',\n",
            "                     metric_params=None, n_jobs=None, n_neighbors=13, p=2,\n",
            "                     weights='uniform')\n"
          ]
        }
      ]
    },
    {
      "cell_type": "code",
      "metadata": {
        "colab": {
          "base_uri": "https://localhost:8080/"
        },
        "id": "B8rh5-dS4KL_",
        "outputId": "18d7144f-8f54-422f-f101-2fcd9c54b66a"
      },
      "source": [
        "from sklearn.preprocessing import StandardScaler\n",
        "X = StandardScaler().fit_transform(X)\n",
        "\n",
        "X_train, X_test, y_train, y_test= train_test_split(X, y, test_size= 0.25, random_state=42)\n",
        "sc= StandardScaler()\n",
        "X_train= sc.fit_transform(X_train) \n",
        "X_test= sc.transform(X_test)\n",
        "classifier= KNeighborsClassifier(n_neighbors=13, metric='minkowski', p=2 )\n",
        "classifier.fit(X_train, y_train)"
      ],
      "execution_count": null,
      "outputs": [
        {
          "output_type": "execute_result",
          "data": {
            "text/plain": [
              "KNeighborsClassifier(algorithm='auto', leaf_size=30, metric='minkowski',\n",
              "                     metric_params=None, n_jobs=None, n_neighbors=13, p=2,\n",
              "                     weights='uniform')"
            ]
          },
          "metadata": {},
          "execution_count": 39
        }
      ]
    },
    {
      "cell_type": "code",
      "metadata": {
        "id": "jDPCiUPK4bB0"
      },
      "source": [
        "y_pred=classifier.predict(X_test)"
      ],
      "execution_count": null,
      "outputs": []
    },
    {
      "cell_type": "code",
      "metadata": {
        "colab": {
          "base_uri": "https://localhost:8080/"
        },
        "id": "4fWhwA304d4_",
        "outputId": "d0d7e351-69be-4a83-a1a1-a85a2c132606"
      },
      "source": [
        "confusion_matrix(y_test, y_pred)"
      ],
      "execution_count": null,
      "outputs": [
        {
          "output_type": "execute_result",
          "data": {
            "text/plain": [
              "array([[15,  0,  0],\n",
              "       [ 0, 11,  0],\n",
              "       [ 0,  0, 12]])"
            ]
          },
          "metadata": {},
          "execution_count": 26
        }
      ]
    },
    {
      "cell_type": "code",
      "metadata": {
        "colab": {
          "base_uri": "https://localhost:8080/"
        },
        "id": "yT2tcWUq4fwa",
        "outputId": "9ba7bebb-a4ad-4876-c48c-6ef931ae1dee"
      },
      "source": [
        "print(classifier.score(X_test, y_test))"
      ],
      "execution_count": null,
      "outputs": [
        {
          "output_type": "stream",
          "name": "stdout",
          "text": [
            "1.0\n"
          ]
        }
      ]
    }
  ]
}